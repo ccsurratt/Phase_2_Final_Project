{
 "cells": [
  {
   "cell_type": "markdown",
   "metadata": {},
   "source": [
    "# Phase 2 Final Project\n",
    "\n",
    "* Student name: Caroline Surratt\n",
    "* Student pace: Self-Paced\n",
    "* Scheduled project review date/time: \n",
    "* Instructor name: Morgan Jones"
   ]
  },
  {
   "cell_type": "markdown",
   "metadata": {},
   "source": [
    "# Business Understanding"
   ]
  },
  {
   "cell_type": "markdown",
   "metadata": {},
   "source": [
    "This analysis was conducted for a company that is interested in creating original video content. However, they lack insight as to what types of films are currently performing best at the box office. This analysis seeks to understand patterns and trends in movie performance in order to recommend what types of films the company should produce to maximize profit. \n",
    "\n",
    "For the purpose of this analysis, movie performance will be evaluated using: \n",
    "\n",
    "* total gross revenue\n",
    "* percent return on investment (using gross revenue and production budget)\n",
    "\n",
    "While other factors (consumer ratings, critic reviews, etc.) may be meaningful in the context of analyzing film as an art form, this company is not necessarily interested in producing Academy-Award-winning films. Rather, they are concerned with earning a profit and maximizing their investments in the new movie studio.\n",
    "\n",
    "In order to better understand what types of films are performing best, I will examine the relationships between revenue and movie characteristics, including production budget, genre, and runtime. "
   ]
  },
  {
   "cell_type": "markdown",
   "metadata": {},
   "source": [
    "# Data Understanding"
   ]
  },
  {
   "cell_type": "markdown",
   "metadata": {},
   "source": [
    "Two datasets were used for this analysis.\n",
    "\n",
    "The first dataset is from The Numbers. This dataset contains information about nearly 6,000 film budgets and revenues from 1915-2020, with most entries falling between the years 2000-2012. This dataset is stored in this repository as a compressed CSV file.\n",
    "\n",
    "The second dataset is from IMDB. This dataset is a SQLite database with information about over 146,000 movies, including information about each movie's length, when it was released, and its genre. This database also contains information about actors/actresses, directors, and writers, as well as which films they are associated with.\n",
    "\n",
    "White there are significantly more entries in IMDB, this information will not be useful to the company without additional information about the profitability of the movie. Therefore, only entries in IMBD that have a corresponding entry in The Numbers dataset will be considered."
   ]
  },
  {
   "cell_type": "markdown",
   "metadata": {},
   "source": [
    "# Importing Data and Packages"
   ]
  },
  {
   "cell_type": "markdown",
   "metadata": {},
   "source": [
    "First, I will import the libraries and packages necessary for this analysis."
   ]
  },
  {
   "cell_type": "code",
   "execution_count": 9,
   "metadata": {},
   "outputs": [],
   "source": [
    "import pandas as pd\n",
    "import numpy as np\n",
    "import matplotlib.pyplot as plt\n",
    "import sqlite3\n",
    "from scipy import stats\n",
    "import seaborn as sns\n",
    "import statsmodels.api as sm\n",
    "\n",
    "%matplotlib inline\n",
    "\n",
    "#turned off chained assignment warning, as I was receiving false positive warnings\n",
    "pd.options.mode.chained_assignment = None"
   ]
  },
  {
   "cell_type": "markdown",
   "metadata": {},
   "source": [
    "### The Numbers Dataset"
   ]
  },
  {
   "cell_type": "markdown",
   "metadata": {},
   "source": [
    "Now, I will import the dataset from The Numbers and preview the DataFrame."
   ]
  },
  {
   "cell_type": "code",
   "execution_count": 2,
   "metadata": {
    "scrolled": false
   },
   "outputs": [
    {
     "data": {
      "text/html": [
       "<div>\n",
       "<style scoped>\n",
       "    .dataframe tbody tr th:only-of-type {\n",
       "        vertical-align: middle;\n",
       "    }\n",
       "\n",
       "    .dataframe tbody tr th {\n",
       "        vertical-align: top;\n",
       "    }\n",
       "\n",
       "    .dataframe thead th {\n",
       "        text-align: right;\n",
       "    }\n",
       "</style>\n",
       "<table border=\"1\" class=\"dataframe\">\n",
       "  <thead>\n",
       "    <tr style=\"text-align: right;\">\n",
       "      <th></th>\n",
       "      <th>id</th>\n",
       "      <th>release_date</th>\n",
       "      <th>movie</th>\n",
       "      <th>production_budget</th>\n",
       "      <th>domestic_gross</th>\n",
       "      <th>worldwide_gross</th>\n",
       "    </tr>\n",
       "  </thead>\n",
       "  <tbody>\n",
       "    <tr>\n",
       "      <th>0</th>\n",
       "      <td>1</td>\n",
       "      <td>Dec 18, 2009</td>\n",
       "      <td>Avatar</td>\n",
       "      <td>$425,000,000</td>\n",
       "      <td>$760,507,625</td>\n",
       "      <td>$2,776,345,279</td>\n",
       "    </tr>\n",
       "    <tr>\n",
       "      <th>1</th>\n",
       "      <td>2</td>\n",
       "      <td>May 20, 2011</td>\n",
       "      <td>Pirates of the Caribbean: On Stranger Tides</td>\n",
       "      <td>$410,600,000</td>\n",
       "      <td>$241,063,875</td>\n",
       "      <td>$1,045,663,875</td>\n",
       "    </tr>\n",
       "    <tr>\n",
       "      <th>2</th>\n",
       "      <td>3</td>\n",
       "      <td>Jun 7, 2019</td>\n",
       "      <td>Dark Phoenix</td>\n",
       "      <td>$350,000,000</td>\n",
       "      <td>$42,762,350</td>\n",
       "      <td>$149,762,350</td>\n",
       "    </tr>\n",
       "    <tr>\n",
       "      <th>3</th>\n",
       "      <td>4</td>\n",
       "      <td>May 1, 2015</td>\n",
       "      <td>Avengers: Age of Ultron</td>\n",
       "      <td>$330,600,000</td>\n",
       "      <td>$459,005,868</td>\n",
       "      <td>$1,403,013,963</td>\n",
       "    </tr>\n",
       "    <tr>\n",
       "      <th>4</th>\n",
       "      <td>5</td>\n",
       "      <td>Dec 15, 2017</td>\n",
       "      <td>Star Wars Ep. VIII: The Last Jedi</td>\n",
       "      <td>$317,000,000</td>\n",
       "      <td>$620,181,382</td>\n",
       "      <td>$1,316,721,747</td>\n",
       "    </tr>\n",
       "    <tr>\n",
       "      <th>...</th>\n",
       "      <td>...</td>\n",
       "      <td>...</td>\n",
       "      <td>...</td>\n",
       "      <td>...</td>\n",
       "      <td>...</td>\n",
       "      <td>...</td>\n",
       "    </tr>\n",
       "    <tr>\n",
       "      <th>5777</th>\n",
       "      <td>78</td>\n",
       "      <td>Dec 31, 2018</td>\n",
       "      <td>Red 11</td>\n",
       "      <td>$7,000</td>\n",
       "      <td>$0</td>\n",
       "      <td>$0</td>\n",
       "    </tr>\n",
       "    <tr>\n",
       "      <th>5778</th>\n",
       "      <td>79</td>\n",
       "      <td>Apr 2, 1999</td>\n",
       "      <td>Following</td>\n",
       "      <td>$6,000</td>\n",
       "      <td>$48,482</td>\n",
       "      <td>$240,495</td>\n",
       "    </tr>\n",
       "    <tr>\n",
       "      <th>5779</th>\n",
       "      <td>80</td>\n",
       "      <td>Jul 13, 2005</td>\n",
       "      <td>Return to the Land of Wonders</td>\n",
       "      <td>$5,000</td>\n",
       "      <td>$1,338</td>\n",
       "      <td>$1,338</td>\n",
       "    </tr>\n",
       "    <tr>\n",
       "      <th>5780</th>\n",
       "      <td>81</td>\n",
       "      <td>Sep 29, 2015</td>\n",
       "      <td>A Plague So Pleasant</td>\n",
       "      <td>$1,400</td>\n",
       "      <td>$0</td>\n",
       "      <td>$0</td>\n",
       "    </tr>\n",
       "    <tr>\n",
       "      <th>5781</th>\n",
       "      <td>82</td>\n",
       "      <td>Aug 5, 2005</td>\n",
       "      <td>My Date With Drew</td>\n",
       "      <td>$1,100</td>\n",
       "      <td>$181,041</td>\n",
       "      <td>$181,041</td>\n",
       "    </tr>\n",
       "  </tbody>\n",
       "</table>\n",
       "<p>5782 rows × 6 columns</p>\n",
       "</div>"
      ],
      "text/plain": [
       "      id  release_date                                        movie  \\\n",
       "0      1  Dec 18, 2009                                       Avatar   \n",
       "1      2  May 20, 2011  Pirates of the Caribbean: On Stranger Tides   \n",
       "2      3   Jun 7, 2019                                 Dark Phoenix   \n",
       "3      4   May 1, 2015                      Avengers: Age of Ultron   \n",
       "4      5  Dec 15, 2017            Star Wars Ep. VIII: The Last Jedi   \n",
       "...   ..           ...                                          ...   \n",
       "5777  78  Dec 31, 2018                                       Red 11   \n",
       "5778  79   Apr 2, 1999                                    Following   \n",
       "5779  80  Jul 13, 2005                Return to the Land of Wonders   \n",
       "5780  81  Sep 29, 2015                         A Plague So Pleasant   \n",
       "5781  82   Aug 5, 2005                            My Date With Drew   \n",
       "\n",
       "     production_budget domestic_gross worldwide_gross  \n",
       "0         $425,000,000   $760,507,625  $2,776,345,279  \n",
       "1         $410,600,000   $241,063,875  $1,045,663,875  \n",
       "2         $350,000,000    $42,762,350    $149,762,350  \n",
       "3         $330,600,000   $459,005,868  $1,403,013,963  \n",
       "4         $317,000,000   $620,181,382  $1,316,721,747  \n",
       "...                ...            ...             ...  \n",
       "5777            $7,000             $0              $0  \n",
       "5778            $6,000        $48,482        $240,495  \n",
       "5779            $5,000         $1,338          $1,338  \n",
       "5780            $1,400             $0              $0  \n",
       "5781            $1,100       $181,041        $181,041  \n",
       "\n",
       "[5782 rows x 6 columns]"
      ]
     },
     "execution_count": 2,
     "metadata": {},
     "output_type": "execute_result"
    }
   ],
   "source": [
    "numbers = pd.read_csv(\"data/tn.movie_budgets.csv.gz\")\n",
    "numbers"
   ]
  },
  {
   "cell_type": "code",
   "execution_count": 3,
   "metadata": {
    "scrolled": true
   },
   "outputs": [
    {
     "name": "stdout",
     "output_type": "stream",
     "text": [
      "<class 'pandas.core.frame.DataFrame'>\n",
      "RangeIndex: 5782 entries, 0 to 5781\n",
      "Data columns (total 6 columns):\n",
      " #   Column             Non-Null Count  Dtype \n",
      "---  ------             --------------  ----- \n",
      " 0   id                 5782 non-null   int64 \n",
      " 1   release_date       5782 non-null   object\n",
      " 2   movie              5782 non-null   object\n",
      " 3   production_budget  5782 non-null   object\n",
      " 4   domestic_gross     5782 non-null   object\n",
      " 5   worldwide_gross    5782 non-null   object\n",
      "dtypes: int64(1), object(5)\n",
      "memory usage: 271.2+ KB\n"
     ]
    }
   ],
   "source": [
    "numbers.info()"
   ]
  },
  {
   "cell_type": "markdown",
   "metadata": {},
   "source": [
    "This dataset contains information about the budgets and revenues of nearly 6,000 movies, with no missing entries. \n",
    "\n",
    "Before much of the data can be utilized, the numbers must be converted to integers instead of objects. For the columns with currency values, I will remove the $ symbol and commas in order to convert these values to a usable type.\n",
    "\n",
    "The only necessary information from the release_date column is the year, as this is the information that is also contained in the IMDB table. Therefore, I will also adjust the release_date column to only contain the year. This way,  this column can be used to match movies to their corresponding entries across the two datasets."
   ]
  },
  {
   "cell_type": "code",
   "execution_count": 4,
   "metadata": {},
   "outputs": [],
   "source": [
    "# created a list of the columns that are referring to a currency\n",
    "currency_columns = ['production_budget', 'domestic_gross', 'worldwide_gross']\n",
    "\n",
    "# used a for loop to remove '$' and ',' symbols from the entries in these columns and convert the remaining\n",
    "# characters to integers instead of strings\n",
    "for column in currency_columns:\n",
    "    numbers[column] = numbers[column].str.replace(\"$\", \"\")\n",
    "    numbers[column] = numbers[column].str.replace(\",\", \"\")\n",
    "    numbers[column] = numbers[column].astype(int)\n",
    "\n",
    "# used a labmda function to select only the year from the release_date column and dropped the column with entire date\n",
    "numbers['release_year'] = numbers['release_date'].map(lambda x: int(x[-4:]))\n",
    "numbers.drop('release_date', axis=1, inplace=True)"
   ]
  },
  {
   "cell_type": "markdown",
   "metadata": {},
   "source": [
    "Now that the columns with numeric values are of a numeric type, we can take a look at the descriptive statistics for this dataset, beginning with the release year."
   ]
  },
  {
   "cell_type": "code",
   "execution_count": 5,
   "metadata": {
    "scrolled": true
   },
   "outputs": [
    {
     "data": {
      "text/plain": [
       "count    5782.000000\n",
       "mean     2003.967139\n",
       "std        12.724386\n",
       "min      1915.000000\n",
       "25%      2000.000000\n",
       "50%      2007.000000\n",
       "75%      2012.000000\n",
       "max      2020.000000\n",
       "Name: release_year, dtype: float64"
      ]
     },
     "execution_count": 5,
     "metadata": {},
     "output_type": "execute_result"
    }
   ],
   "source": [
    "numbers['release_year'].describe()"
   ]
  },
  {
   "cell_type": "markdown",
   "metadata": {},
   "source": [
    "This dataset contains entries about movies that were released as early as 1915. Because the company is interested in films that are currently doing well and film trends have changed significantly in the last century, I will limit this analysis to films that were produced in the 21st century (the year 2000 or later). This will still leave a substantial portion (over 75%) of the dataset for us to work with."
   ]
  },
  {
   "cell_type": "code",
   "execution_count": 6,
   "metadata": {},
   "outputs": [],
   "source": [
    "numbers = numbers.loc[numbers['release_year'] >= 2000]"
   ]
  },
  {
   "cell_type": "code",
   "execution_count": 7,
   "metadata": {
    "scrolled": true
   },
   "outputs": [
    {
     "data": {
      "text/html": [
       "<div>\n",
       "<style scoped>\n",
       "    .dataframe tbody tr th:only-of-type {\n",
       "        vertical-align: middle;\n",
       "    }\n",
       "\n",
       "    .dataframe tbody tr th {\n",
       "        vertical-align: top;\n",
       "    }\n",
       "\n",
       "    .dataframe thead th {\n",
       "        text-align: right;\n",
       "    }\n",
       "</style>\n",
       "<table border=\"1\" class=\"dataframe\">\n",
       "  <thead>\n",
       "    <tr style=\"text-align: right;\">\n",
       "      <th></th>\n",
       "      <th>id</th>\n",
       "      <th>production_budget</th>\n",
       "      <th>domestic_gross</th>\n",
       "      <th>worldwide_gross</th>\n",
       "      <th>release_year</th>\n",
       "    </tr>\n",
       "  </thead>\n",
       "  <tbody>\n",
       "    <tr>\n",
       "      <th>count</th>\n",
       "      <td>4387.000000</td>\n",
       "      <td>4.387000e+03</td>\n",
       "      <td>4.387000e+03</td>\n",
       "      <td>4.387000e+03</td>\n",
       "      <td>4387.000000</td>\n",
       "    </tr>\n",
       "    <tr>\n",
       "      <th>mean</th>\n",
       "      <td>50.086848</td>\n",
       "      <td>3.450823e+07</td>\n",
       "      <td>4.183110e+07</td>\n",
       "      <td>9.693220e+07</td>\n",
       "      <td>2009.314110</td>\n",
       "    </tr>\n",
       "    <tr>\n",
       "      <th>std</th>\n",
       "      <td>28.612598</td>\n",
       "      <td>4.550905e+07</td>\n",
       "      <td>7.126866e+07</td>\n",
       "      <td>1.862101e+08</td>\n",
       "      <td>5.275648</td>\n",
       "    </tr>\n",
       "    <tr>\n",
       "      <th>min</th>\n",
       "      <td>1.000000</td>\n",
       "      <td>1.100000e+03</td>\n",
       "      <td>0.000000e+00</td>\n",
       "      <td>0.000000e+00</td>\n",
       "      <td>2000.000000</td>\n",
       "    </tr>\n",
       "    <tr>\n",
       "      <th>25%</th>\n",
       "      <td>25.000000</td>\n",
       "      <td>5.000000e+06</td>\n",
       "      <td>5.507370e+05</td>\n",
       "      <td>2.689139e+06</td>\n",
       "      <td>2005.000000</td>\n",
       "    </tr>\n",
       "    <tr>\n",
       "      <th>50%</th>\n",
       "      <td>50.000000</td>\n",
       "      <td>1.800000e+07</td>\n",
       "      <td>1.533129e+07</td>\n",
       "      <td>2.936714e+07</td>\n",
       "      <td>2010.000000</td>\n",
       "    </tr>\n",
       "    <tr>\n",
       "      <th>75%</th>\n",
       "      <td>75.000000</td>\n",
       "      <td>4.300000e+07</td>\n",
       "      <td>5.174905e+07</td>\n",
       "      <td>1.014737e+08</td>\n",
       "      <td>2014.000000</td>\n",
       "    </tr>\n",
       "    <tr>\n",
       "      <th>max</th>\n",
       "      <td>100.000000</td>\n",
       "      <td>4.250000e+08</td>\n",
       "      <td>9.366622e+08</td>\n",
       "      <td>2.776345e+09</td>\n",
       "      <td>2020.000000</td>\n",
       "    </tr>\n",
       "  </tbody>\n",
       "</table>\n",
       "</div>"
      ],
      "text/plain": [
       "                id  production_budget  domestic_gross  worldwide_gross  \\\n",
       "count  4387.000000       4.387000e+03    4.387000e+03     4.387000e+03   \n",
       "mean     50.086848       3.450823e+07    4.183110e+07     9.693220e+07   \n",
       "std      28.612598       4.550905e+07    7.126866e+07     1.862101e+08   \n",
       "min       1.000000       1.100000e+03    0.000000e+00     0.000000e+00   \n",
       "25%      25.000000       5.000000e+06    5.507370e+05     2.689139e+06   \n",
       "50%      50.000000       1.800000e+07    1.533129e+07     2.936714e+07   \n",
       "75%      75.000000       4.300000e+07    5.174905e+07     1.014737e+08   \n",
       "max     100.000000       4.250000e+08    9.366622e+08     2.776345e+09   \n",
       "\n",
       "       release_year  \n",
       "count   4387.000000  \n",
       "mean    2009.314110  \n",
       "std        5.275648  \n",
       "min     2000.000000  \n",
       "25%     2005.000000  \n",
       "50%     2010.000000  \n",
       "75%     2014.000000  \n",
       "max     2020.000000  "
      ]
     },
     "execution_count": 7,
     "metadata": {},
     "output_type": "execute_result"
    }
   ],
   "source": [
    "numbers.describe()"
   ]
  },
  {
   "cell_type": "markdown",
   "metadata": {},
   "source": [
    "These statistics show that on average, films released from 2000-2020 cost approximately \\\\$18,000,000  to produce, and on average, films brought in approximately \\\\$29,400,000 in worldwide gross revenue.\n",
    "\n",
    "Looking at total gross revenue will give us some sense of what types of films perform best overall, but it will also be useful to consider the relationship between revenue and production budget. Therefore, I will create a new column called \"%_return\" that gives the gross revenue as a percentage of the production budget. The formula used can be seen in the cell below. I will also sort the dataframe by this column so that the most profitable films are easily accessible."
   ]
  },
  {
   "cell_type": "code",
   "execution_count": 10,
   "metadata": {},
   "outputs": [],
   "source": [
    "numbers['%_return'] = (numbers['worldwide_gross']-numbers['production_budget'])/numbers['production_budget']*100\n",
    "numbers.sort_values(by=['%_return'], ascending=False, inplace=True)"
   ]
  },
  {
   "cell_type": "code",
   "execution_count": 11,
   "metadata": {},
   "outputs": [
    {
     "data": {
      "image/png": "[encoded data removed]",
      "text/plain": [
       "<Figure size 1152x576 with 2 Axes>"
      ]
     },
     "metadata": {
      "needs_background": "light"
     },
     "output_type": "display_data"
    }
   ],
   "source": [
    "fig, axes = plt.subplots(nrows=1, ncols=2, figsize=(16,8))\n",
    "\n",
    "numbers.plot.scatter(x=\"production_budget\", y=\"worldwide_gross\", ax=axes[0])\n",
    "axes[0].set_xlabel(\"Production Budget\")\n",
    "axes[0].set_ylabel(\"Worldwide Gross Revenue\")\n",
    "\n",
    "numbers.plot.scatter(x=\"production_budget\", y=\"%_return\", ax=axes[1])\n",
    "axes[1].set_xlabel(\"Production Budget\")\n",
    "axes[1].set_ylabel(\"Percent Return\");"
   ]
  },
  {
   "cell_type": "markdown",
   "metadata": {},
   "source": [
    "The scatter plot on the left illustrates the relationship between production budget and worldwide gross revenue. Although this relationship is not linear and does not meet the criteria for performing a linear regression, there does appear to be somewhat of a weak relationship between budget and revenue: films with larger budgets tend to have larger revenues. \n",
    "\n",
    "The scatter plot to the right illustrates the relationship between production budget and percent return on the budget. Interestingly, the films with the highest percent returns have some of the lowest budgets. These films will be of particular interest to the company, as they demonstrate opportunities to generate impressive returns on investments.\n",
    "\n",
    "In order to better understand the relationship between films with the highest percent return on investment, I binned the data according to this feature and examined the budget using the function below."
   ]
  },
  {
   "cell_type": "code",
   "execution_count": 12,
   "metadata": {},
   "outputs": [],
   "source": [
    "def calculate_production_budget(n):\n",
    "    top_n = numbers.head(n)\n",
    "    production_budget = top_n['production_budget'].mean()\n",
    "    print(\"The production budget for the \", n, \" films with the highest percent return is $\", \n",
    "          round(production_budget), \".\")"
   ]
  },
  {
   "cell_type": "code",
   "execution_count": 13,
   "metadata": {
    "scrolled": true
   },
   "outputs": [
    {
     "name": "stdout",
     "output_type": "stream",
     "text": [
      "The production budget for the  10  films with the highest percent return is $ 277310.0 .\n",
      "The production budget for the  25  films with the highest percent return is $ 1599324.0 .\n",
      "The production budget for the  50  films with the highest percent return is $ 2962062.0 .\n",
      "The production budget for the  100  films with the highest percent return is $ 5161531.0 .\n",
      "The production budget for the  250  films with the highest percent return is $ 13492643.0 .\n",
      "The production budget for the  500  films with the highest percent return is $ 26151638.0 .\n"
     ]
    }
   ],
   "source": [
    "for n in 10, 25, 50, 100, 250, 500:\n",
    "    calculate_production_budget(n)"
   ]
  },
  {
   "cell_type": "markdown",
   "metadata": {},
   "source": [
    "Again, there is not a linear relationship between the production budget and the percent return, but average production budgets produced above illustrate the following: The films that earn the most money per dollar (that is, the films that have the highest return on investment) have lower budgets, on average, than other films.\n",
    "\n",
    "This led me to question: Are the budgets of these highly profitable movies different from the budgets of all other movies? In order to examine this question, I will use a t-test."
   ]
  },
  {
   "cell_type": "markdown",
   "metadata": {},
   "source": [
    "**Null hypothesis**: Highly profitable movies have the same production budgets as all other movies.\n",
    "\n",
    "**Alternative hypothesis**: Highly profitable movies have the different production budgets than other movies."
   ]
  },
  {
   "cell_type": "markdown",
   "metadata": {},
   "source": [
    "I will consider highly profitable movies to be the 30 movies with the highest percent return on investment."
   ]
  },
  {
   "cell_type": "code",
   "execution_count": 17,
   "metadata": {},
   "outputs": [
    {
     "data": {
      "text/html": [
       "<div>\n",
       "<style scoped>\n",
       "    .dataframe tbody tr th:only-of-type {\n",
       "        vertical-align: middle;\n",
       "    }\n",
       "\n",
       "    .dataframe tbody tr th {\n",
       "        vertical-align: top;\n",
       "    }\n",
       "\n",
       "    .dataframe thead th {\n",
       "        text-align: right;\n",
       "    }\n",
       "</style>\n",
       "<table border=\"1\" class=\"dataframe\">\n",
       "  <thead>\n",
       "    <tr style=\"text-align: right;\">\n",
       "      <th></th>\n",
       "      <th>id</th>\n",
       "      <th>production_budget</th>\n",
       "      <th>domestic_gross</th>\n",
       "      <th>worldwide_gross</th>\n",
       "      <th>release_year</th>\n",
       "      <th>%_return</th>\n",
       "    </tr>\n",
       "  </thead>\n",
       "  <tbody>\n",
       "    <tr>\n",
       "      <th>count</th>\n",
       "      <td>30.000000</td>\n",
       "      <td>3.000000e+01</td>\n",
       "      <td>3.000000e+01</td>\n",
       "      <td>3.000000e+01</td>\n",
       "      <td>30.000000</td>\n",
       "      <td>30.000000</td>\n",
       "    </tr>\n",
       "    <tr>\n",
       "      <th>mean</th>\n",
       "      <td>50.733333</td>\n",
       "      <td>1.929437e+06</td>\n",
       "      <td>5.104841e+07</td>\n",
       "      <td>1.106746e+08</td>\n",
       "      <td>2008.733333</td>\n",
       "      <td>10535.070634</td>\n",
       "    </tr>\n",
       "    <tr>\n",
       "      <th>std</th>\n",
       "      <td>28.146089</td>\n",
       "      <td>2.520212e+06</td>\n",
       "      <td>5.677012e+07</td>\n",
       "      <td>1.193496e+08</td>\n",
       "      <td>4.891466</td>\n",
       "      <td>10469.339329</td>\n",
       "    </tr>\n",
       "    <tr>\n",
       "      <th>min</th>\n",
       "      <td>8.000000</td>\n",
       "      <td>1.100000e+03</td>\n",
       "      <td>1.543300e+04</td>\n",
       "      <td>1.810410e+05</td>\n",
       "      <td>2001.000000</td>\n",
       "      <td>3819.892912</td>\n",
       "    </tr>\n",
       "    <tr>\n",
       "      <th>25%</th>\n",
       "      <td>20.750000</td>\n",
       "      <td>2.125000e+05</td>\n",
       "      <td>1.134583e+07</td>\n",
       "      <td>3.551909e+07</td>\n",
       "      <td>2004.250000</td>\n",
       "      <td>4679.867755</td>\n",
       "    </tr>\n",
       "    <tr>\n",
       "      <th>50%</th>\n",
       "      <td>54.000000</td>\n",
       "      <td>1.000000e+06</td>\n",
       "      <td>3.164526e+07</td>\n",
       "      <td>6.407064e+07</td>\n",
       "      <td>2008.500000</td>\n",
       "      <td>6576.359233</td>\n",
       "    </tr>\n",
       "    <tr>\n",
       "      <th>75%</th>\n",
       "      <td>72.750000</td>\n",
       "      <td>2.750000e+06</td>\n",
       "      <td>7.326685e+07</td>\n",
       "      <td>1.664531e+08</td>\n",
       "      <td>2012.000000</td>\n",
       "      <td>10788.585900</td>\n",
       "    </tr>\n",
       "    <tr>\n",
       "      <th>max</th>\n",
       "      <td>99.000000</td>\n",
       "      <td>1.080000e+07</td>\n",
       "      <td>2.414382e+08</td>\n",
       "      <td>4.848730e+08</td>\n",
       "      <td>2017.000000</td>\n",
       "      <td>43051.785333</td>\n",
       "    </tr>\n",
       "  </tbody>\n",
       "</table>\n",
       "</div>"
      ],
      "text/plain": [
       "              id  production_budget  domestic_gross  worldwide_gross  \\\n",
       "count  30.000000       3.000000e+01    3.000000e+01     3.000000e+01   \n",
       "mean   50.733333       1.929437e+06    5.104841e+07     1.106746e+08   \n",
       "std    28.146089       2.520212e+06    5.677012e+07     1.193496e+08   \n",
       "min     8.000000       1.100000e+03    1.543300e+04     1.810410e+05   \n",
       "25%    20.750000       2.125000e+05    1.134583e+07     3.551909e+07   \n",
       "50%    54.000000       1.000000e+06    3.164526e+07     6.407064e+07   \n",
       "75%    72.750000       2.750000e+06    7.326685e+07     1.664531e+08   \n",
       "max    99.000000       1.080000e+07    2.414382e+08     4.848730e+08   \n",
       "\n",
       "       release_year      %_return  \n",
       "count     30.000000     30.000000  \n",
       "mean    2008.733333  10535.070634  \n",
       "std        4.891466  10469.339329  \n",
       "min     2001.000000   3819.892912  \n",
       "25%     2004.250000   4679.867755  \n",
       "50%     2008.500000   6576.359233  \n",
       "75%     2012.000000  10788.585900  \n",
       "max     2017.000000  43051.785333  "
      ]
     },
     "execution_count": 17,
     "metadata": {},
     "output_type": "execute_result"
    }
   ],
   "source": [
    "subset = numbers.head(30)\n",
    "subset.describe()"
   ]
  },
  {
   "cell_type": "markdown",
   "metadata": {},
   "source": [
    "On average, these top 30 movies have a production budget of $1,929,437, which is much lower than the average budget for all movies. \n",
    "\n",
    "Is this difference statistially significant?"
   ]
  },
  {
   "cell_type": "code",
   "execution_count": 18,
   "metadata": {},
   "outputs": [],
   "source": [
    "sample = subset['production_budget'].to_numpy()"
   ]
  },
  {
   "cell_type": "code",
   "execution_count": 20,
   "metadata": {},
   "outputs": [],
   "source": [
    "mu = numbers['production_budget'].mean()"
   ]
  },
  {
   "cell_type": "code",
   "execution_count": 21,
   "metadata": {
    "scrolled": true
   },
   "outputs": [
    {
     "data": {
      "text/plain": [
       "Ttest_1sampResult(statistic=-70.80412223288555, pvalue=4.840829029209225e-34)"
      ]
     },
     "execution_count": 21,
     "metadata": {},
     "output_type": "execute_result"
    }
   ],
   "source": [
    "stats.ttest_1samp(a=sample, popmean=mu)"
   ]
  },
  {
   "cell_type": "markdown",
   "metadata": {},
   "source": [
    "Using the t-statistic and p-value calculated above, we can **reject the null hypothesis** at the standard alpha level of 0.05: it is extremely unlikely that the production budgets of highly profitable movies are a subset of the productiuon budgets of all movies. "
   ]
  },
  {
   "cell_type": "code",
   "execution_count": 53,
   "metadata": {},
   "outputs": [
    {
     "data": {
      "image/png": "[encoded data removed]",
      "text/plain": [
       "<Figure size 720x432 with 1 Axes>"
      ]
     },
     "metadata": {
      "needs_background": "light"
     },
     "output_type": "display_data"
    }
   ],
   "source": [
    "plt.figure(figsize=(10,6))\n",
    "sns.kdeplot(numbers['production_budget'], color='blue', \n",
    "            label='All Movies', legend=True, clip=(0, 300000000))\n",
    "#sns.kdeplot(subset['production_budget'], color='red', \n",
    "            #label='Highly Profitable Movies', legend=True)\n",
    "plt.vlines(x=numbers['production_budget'].mean(), ymin=0, ymax=0.000000022,\n",
    "          color='blue', linestyles='dashed', label='Average for All Movies')\n",
    "plt.vlines(x=subset['production_budget'].mean(), ymin=0, ymax=0.000000022,\n",
    "          color='red', linestyles='dashed', label='Average for Highly Profitable Movies')\n",
    "plt.xlabel(\"Production Budget\")\n",
    "plt.title(\"Distribution of Production Budgets\", fontsize=18)\n",
    "plt.legend();"
   ]
  },
  {
   "cell_type": "markdown",
   "metadata": {},
   "source": [
    "We cannot assume that the production budget *caused* these films to be more profitable. However, this difference in production budget is a statistically significant feature of highly profitable movies.\n",
    "\n",
    "**Therefore, I recommend that the company mimic the production budgets of these highly profitable films and limit production budgets to $2 million.**"
   ]
  },
  {
   "cell_type": "markdown",
   "metadata": {},
   "source": [
    "### IMDB"
   ]
  },
  {
   "cell_type": "markdown",
   "metadata": {},
   "source": [
    "In order to better understand the features of these movies and evaluate whethere there are trends and patterns in the data, we will need to incorporate additional information from the IMDB file. In the cell below, I will connect to the IMDB file using SQLite 3. Then, I will merge the IMDB data with the data from The Numbers. Entries that have insufficient information will not be useful to this analysis: therefore, an inner merge will be used."
   ]
  },
  {
   "cell_type": "code",
   "execution_count": null,
   "metadata": {},
   "outputs": [],
   "source": [
    "conn = sqlite3.connect(\"data/im.db/im.db\")\n",
    "\n",
    "imdb = pd.read_sql(\"\"\"\n",
    "SELECT original_title, \n",
    "       start_year, \n",
    "       runtime_minutes,\n",
    "       genres\n",
    "FROM movie_basics;\"\"\", conn)"
   ]
  },
  {
   "cell_type": "code",
   "execution_count": null,
   "metadata": {},
   "outputs": [],
   "source": [
    "conn.close()"
   ]
  },
  {
   "cell_type": "code",
   "execution_count": null,
   "metadata": {},
   "outputs": [],
   "source": [
    "movies = numbers.merge(imdb, how='inner', left_on=['movie', 'release_year'], right_on=['original_title', 'start_year'])"
   ]
  },
  {
   "cell_type": "code",
   "execution_count": null,
   "metadata": {},
   "outputs": [],
   "source": [
    "movies"
   ]
  },
  {
   "cell_type": "markdown",
   "metadata": {},
   "source": [
    "Now, we have a set of 1,533 movies produced since 2000 for which we have information about their production budget, revenue, release year, runtime, and genre."
   ]
  },
  {
   "cell_type": "markdown",
   "metadata": {},
   "source": [
    "### Breaking Down Movies by Genre"
   ]
  },
  {
   "cell_type": "code",
   "execution_count": null,
   "metadata": {},
   "outputs": [],
   "source": [
    "all_genres = list(movies['genres'].value_counts().index)"
   ]
  },
  {
   "cell_type": "code",
   "execution_count": null,
   "metadata": {},
   "outputs": [],
   "source": [
    "# https://stackoverflow.com/questions/952914/how-do-i-make-a-flat-list-out-of-a-list-of-lists\n",
    "\n",
    "def split_and_flatten(list):\n",
    "    split_list = []\n",
    "    for entry in list:\n",
    "        split_list.append(entry.split(','))\n",
    "    return set([item for sublist in split_list for item in sublist])\n",
    "\n",
    "genres = split_and_flatten(all_genres)\n",
    "genres"
   ]
  },
  {
   "cell_type": "code",
   "execution_count": null,
   "metadata": {},
   "outputs": [],
   "source": [
    "from pandasql import sqldf\n",
    "pysqldf = lambda q: sqldf(q, globals())\n",
    "\n",
    "def number_in_genre(genres_list):\n",
    "    dataframes = []\n",
    "    for genre in genres_list:\n",
    "        q = \"\"\"SELECT COUNT(*) \n",
    "               FROM movies \n",
    "               WHERE genres LIKE '%\"\"\" + genre + \"\"\"%'\"\"\"\n",
    "        df = pysqldf(q)\n",
    "        df['genre'] = genre\n",
    "        dataframes.append(df)\n",
    "    return pd.concat(dataframes)"
   ]
  },
  {
   "cell_type": "code",
   "execution_count": null,
   "metadata": {},
   "outputs": [],
   "source": [
    "all_movie_genres = number_in_genre(genres)\n",
    "all_movie_genres"
   ]
  },
  {
   "cell_type": "code",
   "execution_count": null,
   "metadata": {},
   "outputs": [],
   "source": [
    "top_100_movies = movies.head(100)\n",
    "\n",
    "def number_in_genre(genres_list):\n",
    "    dataframes = []\n",
    "    for genre in genres_list:\n",
    "        q = \"\"\"SELECT COUNT(*)\n",
    "               FROM top_100_movies\n",
    "               WHERE genres LIKE '%\"\"\" + genre + \"\"\"%'\"\"\"\n",
    "        df = pysqldf(q)\n",
    "        df['genre'] = genre\n",
    "        dataframes.append(df)\n",
    "    return pd.concat(dataframes)\n",
    "\n",
    "top_100_movie_genres = number_in_genre(genres)"
   ]
  },
  {
   "cell_type": "code",
   "execution_count": null,
   "metadata": {},
   "outputs": [],
   "source": [
    "top_50_movies = movies.head(50)\n",
    "\n",
    "def number_in_genre(genres_list):\n",
    "    dataframes = []\n",
    "    for genre in genres_list:\n",
    "        q = \"\"\"SELECT COUNT(*)\n",
    "               FROM top_50_movies\n",
    "               WHERE genres LIKE '%\"\"\" + genre + \"\"\"%'\"\"\"\n",
    "        df = pysqldf(q)\n",
    "        df['genre'] = genre\n",
    "        dataframes.append(df)\n",
    "    return pd.concat(dataframes)\n",
    "\n",
    "top_50_movie_genres = number_in_genre(genres)"
   ]
  },
  {
   "cell_type": "code",
   "execution_count": null,
   "metadata": {},
   "outputs": [],
   "source": [
    "top_10_movies = movies.head(10)\n",
    "\n",
    "def number_in_genre(genres_list):\n",
    "    dataframes = []\n",
    "    for genre in genres_list:\n",
    "        q = \"\"\"SELECT COUNT(*)\n",
    "               FROM top_10_movies\n",
    "               WHERE genres LIKE '%\"\"\" + genre + \"\"\"%'\"\"\"\n",
    "        df = pysqldf(q)\n",
    "        df['genre'] = genre\n",
    "        dataframes.append(df)\n",
    "    return pd.concat(dataframes)\n",
    "\n",
    "top_10_movie_genres = number_in_genre(genres)"
   ]
  },
  {
   "cell_type": "code",
   "execution_count": null,
   "metadata": {},
   "outputs": [],
   "source": [
    "all_movies_genres_array = all_movie_genres['COUNT(*)'].to_numpy()\n",
    "top_movies_genres_array = top_100_movie_genres['COUNT(*)'].to_numpy()"
   ]
  },
  {
   "cell_type": "code",
   "execution_count": null,
   "metadata": {},
   "outputs": [],
   "source": [
    "contingency_table = np.array([all_movies_genres_array,\n",
    "                             top_movies_genres_array])"
   ]
  },
  {
   "cell_type": "code",
   "execution_count": null,
   "metadata": {},
   "outputs": [],
   "source": [
    "stats.chi2_contingency(contingency_table)"
   ]
  },
  {
   "cell_type": "markdown",
   "metadata": {},
   "source": [
    "The extremely low p-value here suggests that these two groups are performing differently."
   ]
  },
  {
   "cell_type": "markdown",
   "metadata": {},
   "source": [
    "### Comparing Movies by Genre Visually"
   ]
  },
  {
   "cell_type": "code",
   "execution_count": null,
   "metadata": {
    "scrolled": true
   },
   "outputs": [],
   "source": [
    "for table in [all_movie_genres, top_100_movie_genres, top_50_movie_genres, top_10_movie_genres]:\n",
    "    table['Percent of'] = table['COUNT(*)'].map(lambda x: x/(table['COUNT(*)'].sum()))\n",
    "    table.drop('COUNT(*)', axis=1, inplace=True)"
   ]
  },
  {
   "cell_type": "code",
   "execution_count": null,
   "metadata": {},
   "outputs": [],
   "source": [
    "all_movie_genres.rename(columns={'Percent of':'% of ALL Movies'}, inplace=True)"
   ]
  },
  {
   "cell_type": "code",
   "execution_count": null,
   "metadata": {},
   "outputs": [],
   "source": [
    "top_100_movie_genres.rename(columns={'Percent of': '% of Top 100 Movies'}, inplace=True)"
   ]
  },
  {
   "cell_type": "code",
   "execution_count": null,
   "metadata": {},
   "outputs": [],
   "source": [
    "top_50_movie_genres.rename(columns={'Percent of': '% of Top 50 Movies'}, inplace=True)"
   ]
  },
  {
   "cell_type": "code",
   "execution_count": null,
   "metadata": {},
   "outputs": [],
   "source": [
    "top_10_movie_genres.rename(columns={'Percent of': '% of Top 10 Movies'}, inplace=True)"
   ]
  },
  {
   "cell_type": "code",
   "execution_count": null,
   "metadata": {},
   "outputs": [],
   "source": [
    "genre_comparison = all_movie_genres.merge(top_100_movie_genres, on=\"genre\")\\\n",
    "                                   .merge(top_50_movie_genres, on=\"genre\")\\\n",
    "                                   .merge(top_10_movie_genres, on=\"genre\")"
   ]
  },
  {
   "cell_type": "code",
   "execution_count": null,
   "metadata": {},
   "outputs": [],
   "source": [
    "genre_comparison"
   ]
  },
  {
   "cell_type": "code",
   "execution_count": null,
   "metadata": {},
   "outputs": [],
   "source": [
    "genre_comparison.plot(x='genre', y=['% of ALL Movies', '% of Top 100 Movies', '% of Top 50 Movies',\n",
    "                                    '% of Top 10 Movies'], \n",
    "                      kind=\"bar\", figsize=[12,9]);"
   ]
  },
  {
   "cell_type": "code",
   "execution_count": null,
   "metadata": {},
   "outputs": [],
   "source": [
    "genre_comparison.plot(x='genre', y=['% of ALL Movies', '% of Top 50 Movies'], \n",
    "                      kind=\"bar\", figsize=[12,9]);"
   ]
  },
  {
   "cell_type": "code",
   "execution_count": null,
   "metadata": {},
   "outputs": [],
   "source": [
    "genre_comparison.plot(x='genre', y=['% of ALL Movies', '% of Top 10 Movies'], \n",
    "                      kind=\"bar\", figsize=[12,9]);"
   ]
  },
  {
   "cell_type": "code",
   "execution_count": null,
   "metadata": {},
   "outputs": [],
   "source": [
    "top_10_movies.hist('runtime_minutes', bins=20);"
   ]
  },
  {
   "cell_type": "code",
   "execution_count": null,
   "metadata": {},
   "outputs": [],
   "source": [
    "top_100_movies.hist('runtime_minutes', bins=20);"
   ]
  },
  {
   "cell_type": "code",
   "execution_count": null,
   "metadata": {},
   "outputs": [],
   "source": [
    "movies.hist('runtime_minutes', bins=20)"
   ]
  },
  {
   "cell_type": "code",
   "execution_count": null,
   "metadata": {},
   "outputs": [],
   "source": [
    "top_10_movies.hist('production_budget', bins=20);"
   ]
  },
  {
   "cell_type": "code",
   "execution_count": null,
   "metadata": {},
   "outputs": [],
   "source": [
    "top_50_movies.hist('production_budget', bins=20);"
   ]
  },
  {
   "cell_type": "code",
   "execution_count": null,
   "metadata": {},
   "outputs": [],
   "source": [
    "movies.hist('production_budget', bins=20);"
   ]
  },
  {
   "cell_type": "code",
   "execution_count": null,
   "metadata": {},
   "outputs": [],
   "source": []
  }
 ],
 "metadata": {
  "kernelspec": {
   "display_name": "Python (learn-env)",
   "language": "python",
   "name": "learn-env"
  },
  "language_info": {
   "codemirror_mode": {
    "name": "ipython",
    "version": 3
   },
   "file_extension": ".py",
   "mimetype": "text/x-python",
   "name": "python",
   "nbconvert_exporter": "python",
   "pygments_lexer": "ipython3",
   "version": "3.8.5"
  }
 },
 "nbformat": 4,
 "nbformat_minor": 4
}
