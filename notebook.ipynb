{
 "cells": [
  {
   "cell_type": "markdown",
   "metadata": {},
   "source": [
    "# Phase 2 Final Project\n",
    "\n",
    "* Student name: Caroline Surratt\n",
    "* Student pace: Self-Paced\n",
    "* Scheduled project review date/time: Wednesday, August 23rd at 3:00 PM\n",
    "* Instructor name: Morgan Jones"
   ]
  },
  {
   "cell_type": "markdown",
   "metadata": {},
   "source": [
    "# Business Understanding"
   ]
  },
  {
   "cell_type": "markdown",
   "metadata": {},
   "source": [
    "This analysis was conducted for a company that is interested in creating original video content. However, the company lacks insight as to what types of films are currently performing best at the box office. This analysis seeks to understand patterns and trends in movie performance in order to recommend what types of films the company should produce to maximize profit. \n",
    "\n",
    "For the purpose of this analysis, movie performance will be evaluated using **percent return on investment**. \n"
   ]
  },
  {
   "cell_type": "markdown",
   "metadata": {},
   "source": [
    "\n",
    "\\begin{align}\n",
    "\\text{Percent Return} = \\frac{\\text{total gross revenue – production budget}}{\\text{production budget}}*100\n",
    "\\end{align}\n"
   ]
  },
  {
   "cell_type": "markdown",
   "metadata": {},
   "source": [
    "This feature will provide more insight than evaluating **total gross revenue** alone since it takes into consideration the size of the initial investment (in this case, the budget to produce the film).\n",
    "\n",
    "While other factors (consumer ratings, critic reviews, etc.) may be meaningful in the context of analyzing film as an art form, this company is not necessarily interested in producing Academy-Award-winning films. Rather, they are concerned with earning a profit and maximizing their investments in the new movie studio.\n",
    "\n",
    "In order to better understand what types of films are performing best, I will examine the relationships between percent return and movie characteristics, including production budget, genre, and runtime."
   ]
  },
  {
   "cell_type": "markdown",
   "metadata": {},
   "source": [
    "# Data Understanding"
   ]
  },
  {
   "cell_type": "markdown",
   "metadata": {},
   "source": [
    "Two datasets were used for this analysis.\n",
    "\n",
    "The first dataset is from The Numbers. This dataset contains information about nearly 6,000 film budgets and revenues from 1915-2020, with most entries falling between the years 2000-2012. This dataset is stored in this repository as a compressed CSV file.\n",
    "\n",
    "The second dataset is from IMDB. This dataset is a SQLite database with information about over 146,000 movies, including information about each movie's length, when it was released, and its genre. This database also contains information about actors/actresses, directors, and writers, as well as which films they are associated with.\n",
    "\n",
    "While there are significantly more entries in the IMDB dataset, this information will not be useful to the company without additional information about the profitability of the movie. Therefore, only entries in IMBD that have a corresponding entry in The Numbers dataset will be considered."
   ]
  },
  {
   "cell_type": "markdown",
   "metadata": {},
   "source": [
    "# Importing Libraries and Data"
   ]
  },
  {
   "cell_type": "markdown",
   "metadata": {},
   "source": [
    "First, I will import the libraries and packages necessary for this analysis."
   ]
  },
  {
   "cell_type": "code",
   "execution_count": null,
   "metadata": {},
   "outputs": [],
   "source": [
    "import pandas as pd\n",
    "import numpy as np\n",
    "import matplotlib.pyplot as plt\n",
    "import sqlite3\n",
    "from scipy import stats\n",
    "import seaborn as sns\n",
    "import statsmodels.api as sm\n",
    "\n",
    "%matplotlib inline\n",
    "\n",
    "# turned off chained assignment warning, as I was receiving false positive warnings\n",
    "pd.options.mode.chained_assignment = None"
   ]
  },
  {
   "cell_type": "markdown",
   "metadata": {},
   "source": [
    "### The Numbers Dataset"
   ]
  },
  {
   "cell_type": "markdown",
   "metadata": {},
   "source": [
    "Now, I will import the dataset from The Numbers and preview the DataFrame."
   ]
  },
  {
   "cell_type": "code",
   "execution_count": null,
   "metadata": {
    "scrolled": false
   },
   "outputs": [],
   "source": [
    "numbers = pd.read_csv(\"data/tn.movie_budgets.csv.gz\")\n",
    "numbers"
   ]
  },
  {
   "cell_type": "code",
   "execution_count": null,
   "metadata": {
    "scrolled": true
   },
   "outputs": [],
   "source": [
    "numbers.info()"
   ]
  },
  {
   "cell_type": "markdown",
   "metadata": {},
   "source": [
    "This dataset contains information about the budgets and revenues of nearly 6,000 movies, with no missing entries. Before much of the data can be utilized, the numbers must be converted to integers instead of objects. \n",
    "\n",
    "For the columns with currency values, I will remove the $ symbol and commas in order to convert these values to a usable type.\n",
    "\n",
    "For the column with dates, I will adjust the entires so that only contain the year (as an integer). Since the IMDB table only contains the release year, this is the only information necessary. This way, the column can be used to match movies to their corresponding entries across the two datasets."
   ]
  },
  {
   "cell_type": "code",
   "execution_count": null,
   "metadata": {},
   "outputs": [],
   "source": [
    "# created a list of the columns that are referring to a currency\n",
    "currency_columns = ['production_budget', 'domestic_gross', 'worldwide_gross']\n",
    "\n",
    "# used a for loop to remove '$' and ',' symbols from the entries in these columns and convert the remaining\n",
    "# characters to integers instead of strings\n",
    "for column in currency_columns:\n",
    "    numbers[column] = numbers[column].str.replace(\"$\", \"\")\n",
    "    numbers[column] = numbers[column].str.replace(\",\", \"\")\n",
    "    numbers[column] = numbers[column].astype(int)\n",
    "\n",
    "# used a labmda function to select only the year from the release_date column and dropped the column with entire date\n",
    "numbers['release_year'] = numbers['release_date'].map(lambda x: int(x[-4:]))\n",
    "numbers.drop('release_date', axis=1, inplace=True)"
   ]
  },
  {
   "cell_type": "markdown",
   "metadata": {},
   "source": [
    "Now that the columns with numeric values are of a numeric type, we can take a look at the descriptive statistics for this dataset, beginning with the release year."
   ]
  },
  {
   "cell_type": "code",
   "execution_count": null,
   "metadata": {
    "scrolled": true
   },
   "outputs": [],
   "source": [
    "numbers['release_year'].describe()"
   ]
  },
  {
   "cell_type": "markdown",
   "metadata": {},
   "source": [
    "This dataset contains entries about movies that were released as early as 1915. Because the company is interested in films that are currently doing well and film trends have changed significantly in the last century, I will limit this analysis to films that were produced in the 21st century (the year 2000 or later). This will still leave a substantial portion (over 75%) of the dataset for us to work with."
   ]
  },
  {
   "cell_type": "code",
   "execution_count": null,
   "metadata": {},
   "outputs": [],
   "source": [
    "numbers = numbers.loc[numbers['release_year'] >= 2000]"
   ]
  },
  {
   "cell_type": "markdown",
   "metadata": {},
   "source": [
    "### IMDB Dataset\n",
    "\n",
    "In order to better understand the features of these movies and evaluate trends and patterns in the data, we will need to incorporate additional information from the IMDB file. In the cell below, I will connect to the IMDB file using SQLite 3. Then, I will merge the IMDB data with the data from The Numbers. Entries that have insufficient information will not be useful to this analysis: therefore, an inner merge will be used."
   ]
  },
  {
   "cell_type": "code",
   "execution_count": null,
   "metadata": {},
   "outputs": [],
   "source": [
    "# The lines below are commented out to avoid running multiple times.\n",
    "    # from zipfile import ZipFile\n",
    "    # with ZipFile(\"data/im.db.zip\", 'r') as zObject:\n",
    "        #z Object.extractall(path=\"data/im.db\")\n",
    "\n",
    "# established connection to the database    \n",
    "conn = sqlite3.connect(\"data/im.db/im.db\")\n",
    "\n",
    "# created a table called imdb by querying the title, year, runtime, and genres for each movie\n",
    "imdb = pd.read_sql(\"\"\"\n",
    "SELECT original_title, \n",
    "       start_year, \n",
    "       runtime_minutes,\n",
    "       genres\n",
    "FROM movie_basics;\"\"\", conn)\n",
    "\n",
    "# closed the connection to the database\n",
    "conn.close()"
   ]
  },
  {
   "cell_type": "code",
   "execution_count": null,
   "metadata": {},
   "outputs": [],
   "source": [
    "# combined the numbers and imdb tables using an inner merge\n",
    "# merged on both the title and the year so to avoid issues with repeat title names\n",
    "\n",
    "movies = numbers.merge(imdb, how='inner', left_on=['movie', 'release_year'], \n",
    "                       right_on=['original_title', 'start_year'])"
   ]
  },
  {
   "cell_type": "markdown",
   "metadata": {},
   "source": [
    "# Exploratory Analysis"
   ]
  },
  {
   "cell_type": "markdown",
   "metadata": {},
   "source": [
    "Before analyzing movie performance by feature, I will explore the descriptive statistics for the dataset as a whole."
   ]
  },
  {
   "cell_type": "code",
   "execution_count": null,
   "metadata": {
    "scrolled": true
   },
   "outputs": [],
   "source": [
    "movies.describe()"
   ]
  },
  {
   "cell_type": "markdown",
   "metadata": {},
   "source": [
    "Now, we have a set of 1,533 movies produced since 2000 for which we have information about the production budget, revenue, release year, runtime, and genre.\n",
    "\n",
    "The statistics show that on average, these films each cost approximately \\\\$44,000,000 to produce, and on average, they each brought in approximately \\\\$137,000,000 in worldwide gross revenue.\n",
    "\n",
    "In order to better understand the relationship between these two variables, I will create a scatterplot below."
   ]
  },
  {
   "cell_type": "code",
   "execution_count": null,
   "metadata": {},
   "outputs": [],
   "source": [
    "# created a subplot\n",
    "fig, ax = plt.subplots(figsize=(14,8))\n",
    "\n",
    "# created a scatterplot for production budget vs. gross revenue\n",
    "movies.plot.scatter(x=\"production_budget\", y=\"worldwide_gross\", ax=ax)\n",
    "ax.set_title(\"Production Budget and Gross Revenue\", fontsize=14)\n",
    "ax.set_xlabel(\"Production Budget (in millions of dollars)\", fontsize=12)\n",
    "ax.set_xticks([0, 100000000, 200000000, 300000000, 400000000])\n",
    "ax.set_xticklabels([0, 100, 200, 300, 400])\n",
    "ax.set_ylabel(\"Worldwide Gross Revenue (in billions of dollars)\", fontsize=12)\n",
    "ax.set_yticks(ticks=[0, 500000000, 1000000000, 1500000000, 2000000000, 2500000000])\n",
    "ax.set_yticklabels(labels=[0, 0.5, 1, 1.5, 2, 2.5]);"
   ]
  },
  {
   "cell_type": "markdown",
   "metadata": {},
   "source": [
    "Although this relationship is not linear and does not meet the criteria for performing a linear regression, there does appear to be somewhat of a weak relationship between budget and revenue: films with larger budgets tend to have larger revenues. "
   ]
  },
  {
   "cell_type": "markdown",
   "metadata": {},
   "source": [
    "### Percent Return"
   ]
  },
  {
   "cell_type": "markdown",
   "metadata": {},
   "source": [
    "Looking at total gross revenue will give us some sense of what types of films perform best overall, but it will be more useful to analyze a feature that considers the relationship between revenue and production budget. Therefore, I will create a new column called **\"%_return\"** that gives the gross revenue as a percentage of the production budget. This feature will provide more insight than evaluating **total gross revenue** alone since it takes into consideration the size of the initial investment (in this case, the budget to produce the film).\n",
    "\n",
    "The formula used can be seen in the cell below. "
   ]
  },
  {
   "cell_type": "markdown",
   "metadata": {},
   "source": [
    "\\begin{align}\n",
    "\\text{Percent Return} = \\frac{\\text{total gross revenue – production budget}}{\\text{production budget}}*100\n",
    "\\end{align}"
   ]
  },
  {
   "cell_type": "code",
   "execution_count": null,
   "metadata": {},
   "outputs": [],
   "source": [
    "# percent return = (earnings - cost) / cost\n",
    "movies['%_return'] = (movies['worldwide_gross']-movies['production_budget'])/movies['production_budget']*100"
   ]
  },
  {
   "cell_type": "markdown",
   "metadata": {},
   "source": [
    "Now, I will  sort the DataFrame by this column so that the most profitable films are easily accessible."
   ]
  },
  {
   "cell_type": "code",
   "execution_count": null,
   "metadata": {
    "scrolled": false
   },
   "outputs": [],
   "source": [
    "movies.sort_values(by=['%_return'], ascending=False, inplace=True)\n",
    "movies['%_return'].describe()"
   ]
  },
  {
   "cell_type": "markdown",
   "metadata": {},
   "source": [
    "On average, movies in this datset earned a 269% return on their initial investment (that is, approximately 2.5 times what was spent to produce the film). The film with the highest percent return had a whopping 41,556% return on investment! The lowest films had a -100% return (that is, no money was earned from the film, so the entire initial investment was lost)."
   ]
  },
  {
   "cell_type": "markdown",
   "metadata": {},
   "source": [
    "Again, because **percent return** explains the extent to which the company will be able to profit off of its investments as a proportion (rather than an amount), this feature (rather than total gross revenue) will be the **feature analyzed in order to consider films \"highly successful\".**\n",
    "\n",
    "For the remainder of this analysis, \"top films\", \"highly profitable films\", and \"most successful films\" will be used to refer to the **30 films with the highest percent returns**. This sample size will be large enough to draw meaningful conclusions while still only considering films that significantly outperformed the average of the dataset."
   ]
  },
  {
   "cell_type": "markdown",
   "metadata": {},
   "source": [
    "# Analysis by Production Budget"
   ]
  },
  {
   "cell_type": "markdown",
   "metadata": {},
   "source": [
    "## Visual Analysis "
   ]
  },
  {
   "cell_type": "markdown",
   "metadata": {},
   "source": [
    "I will begin by creating a scatterplot showing the relationship between production budget and percent return."
   ]
  },
  {
   "cell_type": "code",
   "execution_count": null,
   "metadata": {},
   "outputs": [],
   "source": [
    "# created a subplot\n",
    "fig, ax = plt.subplots(figsize=(14,8))\n",
    "\n",
    "# created a scatterplot for production budget vs. percent return\n",
    "movies.plot.scatter(x=\"production_budget\", y=\"%_return\", ax=ax)\n",
    "ax.set_title(\"Production Budget and Percent Return\", fontsize=14)\n",
    "ax.set_xlabel(\"Production Budget (in millions of dollars)\", fontsize=12)\n",
    "ax.set_xticks([0, 100000000, 200000000, 300000000, 400000000])\n",
    "ax.set_xticklabels([0, 100, 200, 300, 400])\n",
    "ax.set_ylabel(\"Percent Return\", fontsize=12);"
   ]
  },
  {
   "cell_type": "markdown",
   "metadata": {},
   "source": [
    "Interestingly, the films with the highest percent returns have some of the lowest budgets. These films will be of particular interest to the company, as they demonstrate opportunities to generate impressive returns on investments. However, this visualization is somewhat difficult to interpret, since the two extreme values (the films with returns of approximately 40,000% and 10,000%) significantly affect the y-axis.\n",
    "\n",
    "In the cell below, I will drop these two extreme values in order to better visualize the relationship for the rest of the data. _**These values will not be dropped from the dataset used for analysis - they are simply being temporariily ignored in order to improve the visualization.**_"
   ]
  },
  {
   "cell_type": "code",
   "execution_count": null,
   "metadata": {},
   "outputs": [],
   "source": [
    "# created a subset of the movies DataFrame that does not contain the extreme values \n",
    "movies_without_top_two = movies.loc[movies['%_return'] < 10000]\n",
    "\n",
    "# created a new scatterplot using the subset\n",
    "fig, ax = plt.subplots(figsize=(14,8))\n",
    "\n",
    "movies_without_top_two.plot.scatter(x=\"production_budget\", y=\"%_return\", ax=ax)\n",
    "ax.set_title(\"Production Budget and Percent Return\", fontsize=16)\n",
    "ax.set_xlabel(\"Production Budget (in millions of dollars)\", fontsize=12)\n",
    "ax.set_xticks([0, 100000000, 200000000, 300000000, 400000000])\n",
    "ax.set_xticklabels([0, 100, 200, 300, 400])\n",
    "ax.set_ylabel(\"Percent Return\", fontsize=12);"
   ]
  },
  {
   "cell_type": "markdown",
   "metadata": {},
   "source": [
    "Now, we can more clearly see the relationship between production budget and percent return. This relationship is still clearly nonlinear, but it is more obvious that the films with the highest percent returns have budgets that are less than \\\\$100 million."
   ]
  },
  {
   "cell_type": "markdown",
   "metadata": {},
   "source": [
    "## Statistical Analysis\n",
    "\n",
    "In order to better understand this relationship, I will first bin the data according to percent return and examine the budget using the function below."
   ]
  },
  {
   "cell_type": "code",
   "execution_count": null,
   "metadata": {},
   "outputs": [],
   "source": [
    "# created a function that takes one input: the number (n) of top films to consider\n",
    "\n",
    "def calculate_production_budget(n):\n",
    "    \n",
    "    #takes the top n films from the original DataFrame\n",
    "    top_n = movies.head(n)\n",
    "    \n",
    "    #calculates the mean production budget of these top films\n",
    "    production_budget = top_n['production_budget'].mean()\n",
    "    \n",
    "    #prints the mean budget (rounded to the nearest dollar) as well as the number of films considered\n",
    "    print(\"The production budget for the \", n, \" films with the highest percent return is $\", \n",
    "          int(production_budget), \".\")\n",
    "    \n",
    "for n in 5, 30, 50, 100, 250, 500:\n",
    "    calculate_production_budget(n)"
   ]
  },
  {
   "cell_type": "markdown",
   "metadata": {},
   "source": [
    "Again, there is not a linear relationship between the production budget and the percent return, but average production budgets produced above illustrate the following: The films that earn the most money per dollar (that is, the films that have the highest return on investment) have lower budgets, on average, than other films.\n",
    "\n",
    "This led me to question: Are the budgets of these highly profitable movies different from the budgets of all other movies?"
   ]
  },
  {
   "cell_type": "code",
   "execution_count": null,
   "metadata": {},
   "outputs": [],
   "source": [
    "# defined a subset of the 30 movies with the highest percent returns\n",
    "subset = movies.head(30)\n",
    "\n",
    "# examined the descriptive statistics of the subset\n",
    "subset.describe()"
   ]
  },
  {
   "cell_type": "markdown",
   "metadata": {},
   "source": [
    "On average, these top 30 movies have a production budget of \\\\$5,360,000, which is much lower than the average budget for all movies (approximately \\\\$44,000,000). \n",
    "\n",
    "Is this difference statistially significant?\n",
    "\n",
    "In order to examine this question, I will define highly profitable movies to be the 30 movies with the highest percent return on investment, and I will use a t-test with a standard alpha level of 0.05. \n",
    "\n",
    "**Null hypothesis**: Highly profitable movies have the same or higher production budgets compared to all movies.\n",
    "\n",
    "**Alternative hypothesis**: Highly profitable movies have lower production budgets than all movies."
   ]
  },
  {
   "cell_type": "code",
   "execution_count": null,
   "metadata": {},
   "outputs": [],
   "source": [
    "# converted the budget feature of the subset to a NumPy array\n",
    "sample = subset['production_budget'].to_numpy()\n",
    "\n",
    "# defined the population mean as the mean production budget of all movies\n",
    "mu = movies['production_budget'].mean()\n",
    "\n",
    "# ran a 1 sample t-test to compare this subset (the sample) to the population of all movies\n",
    "t_stat, p_value = stats.ttest_1samp(a=sample, popmean=mu)\n",
    "\n",
    "# divided the resulting p_value by 2 since the stats 1-sample t-test assumes a two-sided test\n",
    "print(p_value/2)"
   ]
  },
  {
   "cell_type": "markdown",
   "metadata": {},
   "source": [
    "Using the t-statistic and p-value calculated above, we can **reject the null hypothesis** at the standard alpha level of 0.05: it is extremely unlikely that highly profitable movies have the same or higher production budgets than all movies. Highly profitable movies have lower production budgets than all movies.\n",
    "\n",
    "The graph below illustrates the distribution of all films and highly profitable films by budget."
   ]
  },
  {
   "cell_type": "code",
   "execution_count": null,
   "metadata": {},
   "outputs": [],
   "source": [
    "sns.set_style(\"whitegrid\")\n",
    "\n",
    "fig, ax = plt.subplots(figsize=(14,6))\n",
    "\n",
    "# created a histogram (with the kde plot) for all movies in blue\n",
    "sns.histplot(movies['production_budget'], kde=True, bins=102, \\\n",
    "             stat='probability', alpha=0.5, ax=ax, color='blue', label =\"All Movies\")\n",
    "\n",
    "# created a histogram (with the kde plot) for the top 30 movies in red\n",
    "sns.histplot(subset['production_budget'], kde=True, bins=5, \\\n",
    "             stat='probability', alpha=0.5, ax=ax, color='red', label=\"Top 30 Movies\")\n",
    "\n",
    "# limited x-axis to make visualization more readable\n",
    "plt.xlim(-10, 100000000)\n",
    "\n",
    "# adjusted x-axis ticks/labels to avoid scientific notation\n",
    "plt.xticks(ticks=[0, 20000000, 40000000, 60000000, 80000000, 100000000], \n",
    "           labels=[0, 20, 40, 60, 80, 100],\n",
    "          fontsize=12)\n",
    "\n",
    "# set titles and labels\n",
    "plt.title(\"Distribution of Production Budgets\", fontsize=18)\n",
    "plt.xlabel(\"Production Budget (in millions of dollars)\", fontsize=14)\n",
    "plt.ylabel(\"Probability\", fontsize=14)\n",
    "\n",
    "plt.legend();"
   ]
  },
  {
   "cell_type": "markdown",
   "metadata": {},
   "source": [
    "In blue, we see that all films (denoted in blue) are slightly more concentrated between \\\\$0-20 million. However, this concentration is not nearly as substantial as the concentration of the 30 most profitable films. These films (denoted in red) are highly concentrated between \\\\$0-20 million, with the most concentration occurring between \\\\$0-8 million. No film in the subset has a budget of over \\\\$20 million. In contrast, the movie with the highest production budget exceeds \\\\$400 million - over 20 times that of the highest in the subset!\n",
    "\n",
    "We cannot assume that the production budget *caused* these films to be more profitable. However, this difference in production budget is a statistically significant feature of highly profitable movies."
   ]
  },
  {
   "cell_type": "markdown",
   "metadata": {},
   "source": [
    "**Therefore, I recommend that the company mimic the production budgets of these highly profitable films and produce films with budgets of \\\\$8 or less.** The distribution of production budgets for this subset is not normally distributed, so a recommendation using a confidence interval is not appropriate. However, the distribution seen above illustrates that the majority of most profitable films have budgets of less than \\\\$8 million."
   ]
  },
  {
   "cell_type": "markdown",
   "metadata": {},
   "source": [
    "# Analysis by Genre\n",
    "\n",
    "### Data Preparation\n",
    "\n",
    "Analysis of movies by genre is not possible using the movies DataFrame in its current state because many of the movies have more than one genre listed in the 'genres' column. Therefore, running the .value_counts() function on this column will be insufficient, as this will return the unique combinations of movie genres and the number they appear as opposed to each unique genre and the number of times it appears. Refer to the cell below for additional context."
   ]
  },
  {
   "cell_type": "code",
   "execution_count": null,
   "metadata": {},
   "outputs": [],
   "source": [
    "# demonstrated why running the .value_counts() function alone is insufficient\n",
    "movies['genres'].value_counts()"
   ]
  },
  {
   "cell_type": "markdown",
   "metadata": {},
   "source": [
    "Although it may be possible to gain some information from these values, it will be more meaningful to extract the counts for individual genre. This will allow for a more specific recommendation to the company.\n",
    "\n",
    "By adapting a flatten_list() functon from user Alex Martelli on Stack Overflow, I will split the value counts above, flatten the list, and return only the unique genres."
   ]
  },
  {
   "cell_type": "code",
   "execution_count": null,
   "metadata": {
    "scrolled": true
   },
   "outputs": [],
   "source": [
    "def split_and_flatten(list):\n",
    "    \n",
    "    # initialized an empty list\n",
    "    split_list = []\n",
    "    \n",
    "    # splits the .value_counts() indices at each comma\n",
    "    for entry in list:\n",
    "        split_list.append(entry.split(','))\n",
    "    \n",
    "    # returns the set of the flattened list of indices (provided by Alex Martelli)\n",
    "    # citation: https://stackoverflow.com/questions/952914/how-do-i-make-a-flat-list-out-of-a-list-of-lists\n",
    "    return set([item for sublist in split_list for item in sublist])\n",
    "\n",
    "genres = split_and_flatten(list(movies['genres'].value_counts().index))\n",
    "genres"
   ]
  },
  {
   "cell_type": "markdown",
   "metadata": {},
   "source": [
    "Now, we have a list of each genre that appears in the genres column. \n",
    "\n",
    "In order to determine how often each genre appears in the dataset, I will create a function that counts the number of entries for each genre and returns a DataFrame with the genres and their counts."
   ]
  },
  {
   "cell_type": "code",
   "execution_count": null,
   "metadata": {},
   "outputs": [],
   "source": [
    "# imported necessary library and established helper function\n",
    "from pandasql import sqldf\n",
    "pysqldf = lambda q: sqldf(q, globals())\n",
    "\n",
    "# created a new function that takes one argument: the list of genres\n",
    "def number_in_genre(genres_list):\n",
    "    \n",
    "    # initializes and empty list\n",
    "    dataframes = []\n",
    "    \n",
    "    # loop runs a query on each genre word in the genre list and returns the number of entries that\n",
    "    # contain the genre word in the genres column\n",
    "    for genre in genres_list:\n",
    "        q = \"\"\"SELECT COUNT(*) \n",
    "               FROM movies \n",
    "               WHERE genres LIKE '%\"\"\" + genre + \"\"\"%'\"\"\"\n",
    "        \n",
    "        # returns the result (a series with the count from the query) as the variable df\n",
    "        df = pysqldf(q)\n",
    "       \n",
    "        # creates a new column called \"genres\" whose value is the name of the genre counted\n",
    "        df['genre'] = genre\n",
    "        \n",
    "        # append df to the dataframes list\n",
    "        dataframes.append(df)\n",
    "        \n",
    "    # concatenates all of the dataframes in the dataframes list into one dataframe with each genre/count combination   \n",
    "    return pd.concat(dataframes)"
   ]
  },
  {
   "cell_type": "markdown",
   "metadata": {},
   "source": [
    "Now, I will run the above function using the list of genres. This will return a DataFrame with each genre and the number of times that genre appears in the dataset."
   ]
  },
  {
   "cell_type": "code",
   "execution_count": null,
   "metadata": {},
   "outputs": [],
   "source": [
    "all_movie_genres = number_in_genre(genres)\n",
    "\n",
    "#extracted to numpy array for chi2 test\n",
    "all_movie_genres_array = all_movie_genres['COUNT(*)'].to_numpy()\n",
    "\n",
    "#sorted the DataFrame by counts\n",
    "all_movie_genres.sort_values(by=[\"COUNT(*)\"], inplace=True)\n",
    "all_movie_genres"
   ]
  },
  {
   "cell_type": "markdown",
   "metadata": {},
   "source": [
    "For the entire dataset, the most common genres are drama, comedy, and action. These results can be seen visually in the bar graph below."
   ]
  },
  {
   "cell_type": "code",
   "execution_count": null,
   "metadata": {},
   "outputs": [],
   "source": [
    "fig, ax = plt.subplots(figsize=(14,8))\n",
    "\n",
    "all_movie_genres.plot.barh(x='genre', y='COUNT(*)', label='All Movies', ax=ax)\n",
    "plt.title('Number of Movies by Genre', fontsize=16)\n",
    "plt.xlabel('Number of Movies', fontsize=14)\n",
    "plt.ylabel('Genre', fontsize=14)\n",
    "plt.legend(loc=4);"
   ]
  },
  {
   "cell_type": "markdown",
   "metadata": {},
   "source": [
    "Now, I will examine the breakdown by genre for only the most profitable movies.\n",
    "\n",
    "I will once again use a function that counts the number of entries for each genre and returns a DataFrame with the genres and their counts. However, I will adjust the function so that it queries the subset DataFrame (which only contains the 30 movies with the highest percent returns) instead of the movies DataFrame (which contains all movies)."
   ]
  },
  {
   "cell_type": "code",
   "execution_count": null,
   "metadata": {},
   "outputs": [],
   "source": [
    "# Note that the function below is identical to the function above except for the \"FROM\" line of the query,\n",
    "# which has been changed to \"subset\" instead of \"movies\"\n",
    "\n",
    "def number_in_genre(genres_list):\n",
    "    dataframes = []\n",
    "    for genre in genres_list:\n",
    "        # The below que\n",
    "        q = \"\"\"SELECT COUNT(*)\n",
    "               FROM subset \n",
    "               WHERE genres LIKE '%\"\"\" + genre + \"\"\"%'\"\"\"\n",
    "        df = pysqldf(q)\n",
    "        df['genre'] = genre\n",
    "        dataframes.append(df)\n",
    "    return pd.concat(dataframes)\n",
    "\n",
    "top_movie_genres = number_in_genre(genres)\n",
    "top_movie_genres_array = top_movie_genres['COUNT(*)'].to_numpy()\n",
    "top_movie_genres\n",
    "\n",
    "top_movie_genres.sort_values(by=[\"COUNT(*)\"], inplace=True)\n",
    "top_movie_genres"
   ]
  },
  {
   "cell_type": "markdown",
   "metadata": {},
   "source": [
    "For the most profitable movies, the most common genres are horror, thriller, and drama. These results can be seen visually in the bar graph below."
   ]
  },
  {
   "cell_type": "code",
   "execution_count": null,
   "metadata": {},
   "outputs": [],
   "source": [
    "fig, ax = plt.subplots(figsize=(14,8))\n",
    "\n",
    "top_movie_genres.plot.barh(x='genre', y='COUNT(*)', label='Top 30 Movies', ax=ax)\n",
    "plt.title('Number of Movies by Genre', fontsize=16)\n",
    "plt.xlabel('Number of Movies', fontsize=14)\n",
    "plt.ylabel('Genre', fontsize=14)\n",
    "plt.legend(loc=4);"
   ]
  },
  {
   "cell_type": "markdown",
   "metadata": {},
   "source": [
    "Fewer genres are represented in the top 30 movies subset, and there is a larger proporiton of movies in the most common genre categories."
   ]
  },
  {
   "cell_type": "markdown",
   "metadata": {},
   "source": [
    "## Visual Analysis\n",
    "\n",
    "In order to compare the subset to all movies, I will adjust the columns of each DataFrame so that they use percentages rather than raw counts. Then, I will merge the DataFrames and create a double bar graph to compare the results visually."
   ]
  },
  {
   "cell_type": "code",
   "execution_count": null,
   "metadata": {},
   "outputs": [],
   "source": [
    "# divided each count by the number of movies in the DataFrame\n",
    "all_movie_genres['Percent of'] = all_movie_genres['COUNT(*)'].map(lambda x: x/(len(movies))*100)\n",
    "top_movie_genres['Percent of'] = top_movie_genres['COUNT(*)'].map(lambda x: x/(len(subset))*100)\n",
    "\n",
    "# dropped the count column\n",
    "for table in [all_movie_genres, top_movie_genres]:\n",
    "    table.drop('COUNT(*)', axis=1, inplace=True)\n",
    "    \n",
    "# renamed the columns so they are specific to the data they represent\n",
    "all_movie_genres.rename(columns={'Percent of':'Percent of All Movies'}, inplace=True)\n",
    "top_movie_genres.rename(columns={'Percent of':'Percent of Top 30 Movies'}, inplace=True)\n",
    "\n",
    "# merged the DataFrames and sorted the values\n",
    "genre_comparison = all_movie_genres.merge(top_movie_genres, on='genre')\n",
    "genre_comparison.sort_values(by=['Percent of Top 30 Movies'], ascending=True, inplace=True)"
   ]
  },
  {
   "cell_type": "code",
   "execution_count": null,
   "metadata": {},
   "outputs": [],
   "source": [
    "fig, ax = plt.subplots(figsize=(12,6))\n",
    "\n",
    "genre_comparison.plot(x='genre', y=['Percent of All Movies', 'Percent of Top 30 Movies'],\n",
    "                     kind=\"barh\", ax=ax)\n",
    "plt.title(\"Percent of Movies by Genre\", fontsize=14)\n",
    "plt.xlabel(\"Percent of Movies\", fontsize=12)\n",
    "plt.ylabel(\"Genre\", fontsize=12);"
   ]
  },
  {
   "cell_type": "markdown",
   "metadata": {},
   "source": [
    "This graph clearly shows that there are some key differences in the subset of highly profitable movies compared to the dataset with all movies. However, it is somewhat difficult to interpret all of the information at once, and some of this information (i.e. the genres for which there are no highly profitable movies) will not be useful in my recommendations.\n",
    "\n",
    "Because the company is interested in maximizing profit, I will create a second visualization that only includes the most common genres for the top 30 movies. This will improve readability of the graph and better illuminate the relationship between genre and percent return."
   ]
  },
  {
   "cell_type": "code",
   "execution_count": null,
   "metadata": {},
   "outputs": [],
   "source": [
    "fig, ax = plt.subplots(figsize=(12,6))\n",
    "\n",
    "genre_comparison.tail(5).plot(x='genre', y=['Percent of All Movies', 'Percent of Top 30 Movies'],\n",
    "                     kind=\"barh\", ax=ax)\n",
    "plt.title(\"Percent of Movies by Genre\", fontsize=16)\n",
    "plt.xlabel(\"Percent of Movies\", fontsize=14)\n",
    "plt.ylabel(\"Genre\", fontsize=14);"
   ]
  },
  {
   "cell_type": "markdown",
   "metadata": {},
   "source": [
    "The majority of movies in the highly profitable subset are classified as \"Horror\" (60%)  and/or \"Thriller\" (53%). However, a much smaller portion of all movies (12% and 17%, respectively) fit this classification. \n",
    "\n",
    "Similarly, the proportion of movies classified as \"Mystery\" is much larger for the highly profitable movies (40%) than for all movies (8%). \n",
    "\n",
    "By contrast, about 34% of all movies are classified as \"Comedy\", while only approimately 13% of highly profitable movies fall into this category.\n",
    "\n",
    "The proportion for \"Drama\" is similar the categories: approximately 48% for all movies and 43% for the subset."
   ]
  },
  {
   "cell_type": "markdown",
   "metadata": {},
   "source": [
    "## Statistical Analysis"
   ]
  },
  {
   "cell_type": "markdown",
   "metadata": {},
   "source": [
    "Could the differences in these breakdowns be attributed to chance, or are these subsets actually behaving differently? In order to test whether these differences are statistically significant, I will perform a chi-squared contingency test with the standard alpha value of 0.05.\n",
    "\n",
    "**Null hypothesis**: There is no difference in genre breakdown for highly profitable movies compared to all movies.\n",
    "\n",
    "**Alternative hypothesis**: There is a difference in genre breakdown for highly profitable movies compared to all movies."
   ]
  },
  {
   "cell_type": "code",
   "execution_count": null,
   "metadata": {},
   "outputs": [],
   "source": [
    "# Note that the array variables were extracted earlier in the analysis (before the values were sorted by count \n",
    "# and before the counts were transformed into percentages)\n",
    "\n",
    "contingency_table = np.array([all_movie_genres_array,\n",
    "                             top_movie_genres_array])\n",
    "\n",
    "stats.chi2_contingency(contingency_table)"
   ]
  },
  {
   "cell_type": "markdown",
   "metadata": {},
   "source": [
    "The extremely low p-value allows us to **reject the null hypothesis** at the standard alpha level of 0.05: it is extremely unlikely that these two groups behave the same way with regard to distribution across genre. \n",
    "\n",
    "**Therefore, I recommend taht the company mimic the genre distribution of the highly profitable films and produce films classified as \"Horror\", \"Thriller\", \"Drama\", and/or \"Mystery\".** Films in these genre categories make up the vast majority of highly profitable films."
   ]
  },
  {
   "cell_type": "markdown",
   "metadata": {},
   "source": [
    "# Analysis by Runtime"
   ]
  },
  {
   "cell_type": "markdown",
   "metadata": {},
   "source": [
    "## Visual Analysis"
   ]
  },
  {
   "cell_type": "markdown",
   "metadata": {},
   "source": [
    "Next, I will explore the relationship between runtime and percent return. First, I will visualize the relationship with a scatterplot."
   ]
  },
  {
   "cell_type": "code",
   "execution_count": null,
   "metadata": {},
   "outputs": [],
   "source": [
    "fig, ax = plt.subplots()\n",
    "\n",
    "plt.scatter(x=movies['runtime_minutes'], y=movies['%_return'])\n",
    "plt.title(\"Runtime and Percent Return\", fontsize=18)\n",
    "plt.xlabel(\"Runtime (minutes)\")\n",
    "plt.ylabel(\"Percent Return\");"
   ]
  },
  {
   "cell_type": "markdown",
   "metadata": {},
   "source": [
    "There does not appear to be a clear relationship between movie runtime and percent return. However, it is clear that the two movies with the highest percent returns have similar runtimes - approximately 80-85 minutes. These two movies are so far above the others that they make the graph somewhat difficult to interpret, as they compress the y-axis significantly. In order to better visualize this relationship, I will drop the two most profitable movies and examine the remaining data points."
   ]
  },
  {
   "cell_type": "code",
   "execution_count": null,
   "metadata": {},
   "outputs": [],
   "source": [
    "movies_without_top_two = movies.loc[movies['%_return']<10000]\n",
    "\n",
    "fig, ax = plt.subplots(figsize=(12,6))\n",
    "\n",
    "plt.scatter(x=movies_without_top_two['runtime_minutes'], y=movies_without_top_two['%_return'])\n",
    "plt.title(\"Runtime and Percent Return\", fontsize=18)\n",
    "plt.xlabel(\"Runtime (minutes)\")\n",
    "plt.ylabel(\"Percent Return\");"
   ]
  },
  {
   "cell_type": "markdown",
   "metadata": {},
   "source": [
    "Again, although there is not a linear relationship between these two variables, it does appear that many of the most profitable movies are clustered between 75-125 minutes."
   ]
  },
  {
   "cell_type": "markdown",
   "metadata": {},
   "source": [
    "## Statistical Analysis\n",
    "\n",
    "In order to better understand the relationship between these two variables, I will bin the data according to percent return and analyze the runtime using the function below."
   ]
  },
  {
   "cell_type": "code",
   "execution_count": null,
   "metadata": {},
   "outputs": [],
   "source": [
    "# created a function that takes one input: the number (n) of top films to consider\n",
    "\n",
    "def calculate_runtime(n):\n",
    "    \n",
    "    #takes the top n films from the original DataFrame\n",
    "    top_n = movies.head(n)\n",
    "    \n",
    "    #calculates the mean runtime of these top films\n",
    "    runtime = top_n['runtime_minutes'].mean()\n",
    "    \n",
    "    #prints the mean runtime (rounded to the nearest minute) as well as the number of films considered\n",
    "    print(\"The runtime for the \", n, \" films with the highest percent return is\", \n",
    "          int(runtime), \"minutes.\")\n",
    "    \n",
    "for n in 5, 30, 50, 100, 250, 500:\n",
    "    calculate_runtime(n)"
   ]
  },
  {
   "cell_type": "code",
   "execution_count": null,
   "metadata": {},
   "outputs": [],
   "source": [
    "print(\"The average runtime for the most profitable films is {} minutes, with a standard deviation \\\n",
    "of {}.\".format(round(subset.runtime_minutes.mean()), \n",
    "               round(np.std(subset.runtime_minutes, ddof=1))))\n",
    "print(\"The average runtime for all films is {} minutes, with a standard deviation \\\n",
    "of {}.\".format(round(movies.runtime_minutes.mean()), \n",
    "               round(np.std(movies.runtime_minutes))))"
   ]
  },
  {
   "cell_type": "markdown",
   "metadata": {},
   "source": [
    "Interestingly, the movies with the highest percent returns have shorter runtimes, on average, than other films. Is this difference statistically significant? In order to test this, I will conduct a t-test.\n",
    "\n",
    "**Null hypothesis**: Highly profitable movies have the same or longer runtimes compared to all movies.\n",
    "\n",
    "**Alternative hypothesis**: Highly profitable movies have shorter runtimes than all movies."
   ]
  },
  {
   "cell_type": "code",
   "execution_count": null,
   "metadata": {},
   "outputs": [],
   "source": [
    "# converted the runtime feature of the subset to a NumPy array\n",
    "sample = subset['runtime_minutes'].to_numpy()\n",
    "\n",
    "# defined the population mean as the mean runtime of all movies\n",
    "mu = movies['runtime_minutes'].mean()\n",
    "\n",
    "# ran a 1 sample t-test to compare this subset (the sample) to the population of all movies\n",
    "t_stat, p_value = stats.ttest_1samp(a=sample, popmean=mu)\n",
    "\n",
    "# divided the resulting p_value by 2 since the stats 1-sample t-test assumes a two-sided test\n",
    "print(p_value/2)"
   ]
  },
  {
   "cell_type": "markdown",
   "metadata": {},
   "source": [
    "Using the p-value calculated above, we can reject the null hypothesis at the standard alpha level of 0.05: it is  unlikely that highly profitable movies have the same or higher runtimes compared to all movies. Highly profitable movies appear to have lower runtimes than all movies, on average."
   ]
  },
  {
   "cell_type": "code",
   "execution_count": null,
   "metadata": {},
   "outputs": [],
   "source": []
  },
  {
   "cell_type": "code",
   "execution_count": null,
   "metadata": {},
   "outputs": [],
   "source": [
    "fig, ax = plt.subplots(figsize=(14,6))\n",
    "\n",
    "ax.hist(subset['runtime_minutes'], bins=10)\n",
    "ax.set_title(\"Distribution of Runtime\", fontsize=16)\n",
    "ax.set_xlabel(\"Runtime (in minutes)\")\n",
    "ax.set_ylabel(\"Number of Movies\");"
   ]
  },
  {
   "cell_type": "code",
   "execution_count": null,
   "metadata": {},
   "outputs": [],
   "source": [
    "movies.runtime_minutes.hist()\n",
    "movies.runtime_minutes.mean()\n",
    "np.std(movies.runtime_minutes)"
   ]
  },
  {
   "cell_type": "markdown",
   "metadata": {},
   "source": [
    "As with the distribution of production budget, the distribution of runtime for the highly profitable films is not normally distributed. Therefore, the use of a confidence interval is not appropriate for a recommendation. However, the visualization makes it clear that the majority of these movies "
   ]
  },
  {
   "cell_type": "code",
   "execution_count": null,
   "metadata": {},
   "outputs": [],
   "source": []
  }
 ],
 "metadata": {
  "kernelspec": {
   "display_name": "Python (learn-env)",
   "language": "python",
   "name": "learn-env"
  },
  "language_info": {
   "codemirror_mode": {
    "name": "ipython",
    "version": 3
   },
   "file_extension": ".py",
   "mimetype": "text/x-python",
   "name": "python",
   "nbconvert_exporter": "python",
   "pygments_lexer": "ipython3",
   "version": "3.8.5"
  }
 },
 "nbformat": 4,
 "nbformat_minor": 4
}
