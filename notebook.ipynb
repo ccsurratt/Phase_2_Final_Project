{
 "cells": [
  {
   "cell_type": "markdown",
   "metadata": {},
   "source": [
    "# Phase 2 Final Project\n",
    "\n",
    "* Student name: Caroline Surratt\n",
    "* Student pace: Self-Paced\n",
    "* Scheduled project review date/time: Wednesday, August 23rd at 3:00 PM\n",
    "* Instructor name: Morgan Jones"
   ]
  },
  {
   "cell_type": "markdown",
   "metadata": {},
   "source": [
    "# Business Understanding"
   ]
  },
  {
   "cell_type": "markdown",
   "metadata": {},
   "source": [
    "This analysis was conducted for a company that is interested in creating original video content. However, the company lacks insight as to what types of films are currently performing best at the box office. This analysis seeks to understand patterns and trends in movie performance in order to recommend what types of films the company should produce to maximize profit. \n",
    "\n",
    "For the purpose of this analysis, movie performance will be evaluated using **percent return on investment**. \n"
   ]
  },
  {
   "cell_type": "markdown",
   "metadata": {},
   "source": [
    "\n",
    "\\begin{align}\n",
    "\\text{Percent Return} = \\frac{\\text{total gross revenue – production budget}}{\\text{production budget}}*100\n",
    "\\end{align}\n"
   ]
  },
  {
   "cell_type": "markdown",
   "metadata": {},
   "source": [
    "This feature will provide more insight than evaluating **total gross revenue** alone since it takes into consideration the size of the initial investment (in this case, the budget to produce the film).\n",
    "\n",
    "While other factors (consumer ratings, critic reviews, etc.) may be meaningful in the context of analyzing film as an art form, this company is not necessarily interested in producing Academy-Award-winning films. Rather, they are concerned with earning a profit and maximizing their investments in the new movie studio.\n",
    "\n",
    "In order to better understand what types of films are performing best, I will examine the relationships between percent return and movie characteristics, including production budget, genre, and runtime."
   ]
  },
  {
   "cell_type": "markdown",
   "metadata": {},
   "source": [
    "# Data Understanding"
   ]
  },
  {
   "cell_type": "markdown",
   "metadata": {},
   "source": [
    "Two datasets were used for this analysis.\n",
    "\n",
    "The first dataset is from The Numbers. This dataset contains information about nearly 6,000 film budgets and revenues from 1915-2020, with most entries falling between the years 2000-2012. This dataset is stored in this repository as a compressed CSV file.\n",
    "\n",
    "The second dataset is from IMDB. This dataset is a SQLite database with information about over 146,000 movies, including information about each movie's length, when it was released, and its genre. This database also contains information about actors/actresses, directors, and writers, as well as which films they are associated with.\n",
    "\n",
    "While there are significantly more entries in the IMDB dataset, this information will not be useful to the company without additional information about the profitability of the movie. Therefore, only entries in IMBD that have a corresponding entry in The Numbers dataset will be considered."
   ]
  },
  {
   "cell_type": "markdown",
   "metadata": {},
   "source": [
    "# Importing Libraries and Data"
   ]
  },
  {
   "cell_type": "markdown",
   "metadata": {},
   "source": [
    "First, I will import the libraries and packages necessary for this analysis."
   ]
  },
  {
   "cell_type": "code",
   "execution_count": 1,
   "metadata": {},
   "outputs": [],
   "source": [
    "import pandas as pd\n",
    "import numpy as np\n",
    "import matplotlib.pyplot as plt\n",
    "import sqlite3\n",
    "from scipy import stats\n",
    "import seaborn as sns\n",
    "import statsmodels.api as sm\n",
    "\n",
    "%matplotlib inline\n",
    "\n",
    "# turned off chained assignment warning, as I was receiving false positive warnings\n",
    "pd.options.mode.chained_assignment = None"
   ]
  },
  {
   "cell_type": "markdown",
   "metadata": {},
   "source": [
    "### The Numbers Dataset"
   ]
  },
  {
   "cell_type": "markdown",
   "metadata": {},
   "source": [
    "Now, I will import the dataset from The Numbers and preview the DataFrame."
   ]
  },
  {
   "cell_type": "code",
   "execution_count": 2,
   "metadata": {
    "scrolled": false
   },
   "outputs": [
    {
     "data": {
      "text/html": [
       "<div>\n",
       "<style scoped>\n",
       "    .dataframe tbody tr th:only-of-type {\n",
       "        vertical-align: middle;\n",
       "    }\n",
       "\n",
       "    .dataframe tbody tr th {\n",
       "        vertical-align: top;\n",
       "    }\n",
       "\n",
       "    .dataframe thead th {\n",
       "        text-align: right;\n",
       "    }\n",
       "</style>\n",
       "<table border=\"1\" class=\"dataframe\">\n",
       "  <thead>\n",
       "    <tr style=\"text-align: right;\">\n",
       "      <th></th>\n",
       "      <th>id</th>\n",
       "      <th>release_date</th>\n",
       "      <th>movie</th>\n",
       "      <th>production_budget</th>\n",
       "      <th>domestic_gross</th>\n",
       "      <th>worldwide_gross</th>\n",
       "    </tr>\n",
       "  </thead>\n",
       "  <tbody>\n",
       "    <tr>\n",
       "      <th>0</th>\n",
       "      <td>1</td>\n",
       "      <td>Dec 18, 2009</td>\n",
       "      <td>Avatar</td>\n",
       "      <td>$425,000,000</td>\n",
       "      <td>$760,507,625</td>\n",
       "      <td>$2,776,345,279</td>\n",
       "    </tr>\n",
       "    <tr>\n",
       "      <th>1</th>\n",
       "      <td>2</td>\n",
       "      <td>May 20, 2011</td>\n",
       "      <td>Pirates of the Caribbean: On Stranger Tides</td>\n",
       "      <td>$410,600,000</td>\n",
       "      <td>$241,063,875</td>\n",
       "      <td>$1,045,663,875</td>\n",
       "    </tr>\n",
       "    <tr>\n",
       "      <th>2</th>\n",
       "      <td>3</td>\n",
       "      <td>Jun 7, 2019</td>\n",
       "      <td>Dark Phoenix</td>\n",
       "      <td>$350,000,000</td>\n",
       "      <td>$42,762,350</td>\n",
       "      <td>$149,762,350</td>\n",
       "    </tr>\n",
       "    <tr>\n",
       "      <th>3</th>\n",
       "      <td>4</td>\n",
       "      <td>May 1, 2015</td>\n",
       "      <td>Avengers: Age of Ultron</td>\n",
       "      <td>$330,600,000</td>\n",
       "      <td>$459,005,868</td>\n",
       "      <td>$1,403,013,963</td>\n",
       "    </tr>\n",
       "    <tr>\n",
       "      <th>4</th>\n",
       "      <td>5</td>\n",
       "      <td>Dec 15, 2017</td>\n",
       "      <td>Star Wars Ep. VIII: The Last Jedi</td>\n",
       "      <td>$317,000,000</td>\n",
       "      <td>$620,181,382</td>\n",
       "      <td>$1,316,721,747</td>\n",
       "    </tr>\n",
       "    <tr>\n",
       "      <th>...</th>\n",
       "      <td>...</td>\n",
       "      <td>...</td>\n",
       "      <td>...</td>\n",
       "      <td>...</td>\n",
       "      <td>...</td>\n",
       "      <td>...</td>\n",
       "    </tr>\n",
       "    <tr>\n",
       "      <th>5777</th>\n",
       "      <td>78</td>\n",
       "      <td>Dec 31, 2018</td>\n",
       "      <td>Red 11</td>\n",
       "      <td>$7,000</td>\n",
       "      <td>$0</td>\n",
       "      <td>$0</td>\n",
       "    </tr>\n",
       "    <tr>\n",
       "      <th>5778</th>\n",
       "      <td>79</td>\n",
       "      <td>Apr 2, 1999</td>\n",
       "      <td>Following</td>\n",
       "      <td>$6,000</td>\n",
       "      <td>$48,482</td>\n",
       "      <td>$240,495</td>\n",
       "    </tr>\n",
       "    <tr>\n",
       "      <th>5779</th>\n",
       "      <td>80</td>\n",
       "      <td>Jul 13, 2005</td>\n",
       "      <td>Return to the Land of Wonders</td>\n",
       "      <td>$5,000</td>\n",
       "      <td>$1,338</td>\n",
       "      <td>$1,338</td>\n",
       "    </tr>\n",
       "    <tr>\n",
       "      <th>5780</th>\n",
       "      <td>81</td>\n",
       "      <td>Sep 29, 2015</td>\n",
       "      <td>A Plague So Pleasant</td>\n",
       "      <td>$1,400</td>\n",
       "      <td>$0</td>\n",
       "      <td>$0</td>\n",
       "    </tr>\n",
       "    <tr>\n",
       "      <th>5781</th>\n",
       "      <td>82</td>\n",
       "      <td>Aug 5, 2005</td>\n",
       "      <td>My Date With Drew</td>\n",
       "      <td>$1,100</td>\n",
       "      <td>$181,041</td>\n",
       "      <td>$181,041</td>\n",
       "    </tr>\n",
       "  </tbody>\n",
       "</table>\n",
       "<p>5782 rows × 6 columns</p>\n",
       "</div>"
      ],
      "text/plain": [
       "      id  release_date                                        movie  \\\n",
       "0      1  Dec 18, 2009                                       Avatar   \n",
       "1      2  May 20, 2011  Pirates of the Caribbean: On Stranger Tides   \n",
       "2      3   Jun 7, 2019                                 Dark Phoenix   \n",
       "3      4   May 1, 2015                      Avengers: Age of Ultron   \n",
       "4      5  Dec 15, 2017            Star Wars Ep. VIII: The Last Jedi   \n",
       "...   ..           ...                                          ...   \n",
       "5777  78  Dec 31, 2018                                       Red 11   \n",
       "5778  79   Apr 2, 1999                                    Following   \n",
       "5779  80  Jul 13, 2005                Return to the Land of Wonders   \n",
       "5780  81  Sep 29, 2015                         A Plague So Pleasant   \n",
       "5781  82   Aug 5, 2005                            My Date With Drew   \n",
       "\n",
       "     production_budget domestic_gross worldwide_gross  \n",
       "0         $425,000,000   $760,507,625  $2,776,345,279  \n",
       "1         $410,600,000   $241,063,875  $1,045,663,875  \n",
       "2         $350,000,000    $42,762,350    $149,762,350  \n",
       "3         $330,600,000   $459,005,868  $1,403,013,963  \n",
       "4         $317,000,000   $620,181,382  $1,316,721,747  \n",
       "...                ...            ...             ...  \n",
       "5777            $7,000             $0              $0  \n",
       "5778            $6,000        $48,482        $240,495  \n",
       "5779            $5,000         $1,338          $1,338  \n",
       "5780            $1,400             $0              $0  \n",
       "5781            $1,100       $181,041        $181,041  \n",
       "\n",
       "[5782 rows x 6 columns]"
      ]
     },
     "execution_count": 2,
     "metadata": {},
     "output_type": "execute_result"
    }
   ],
   "source": [
    "numbers = pd.read_csv(\"data/tn.movie_budgets.csv.gz\")\n",
    "numbers"
   ]
  },
  {
   "cell_type": "code",
   "execution_count": 3,
   "metadata": {
    "scrolled": true
   },
   "outputs": [
    {
     "name": "stdout",
     "output_type": "stream",
     "text": [
      "<class 'pandas.core.frame.DataFrame'>\n",
      "RangeIndex: 5782 entries, 0 to 5781\n",
      "Data columns (total 6 columns):\n",
      " #   Column             Non-Null Count  Dtype \n",
      "---  ------             --------------  ----- \n",
      " 0   id                 5782 non-null   int64 \n",
      " 1   release_date       5782 non-null   object\n",
      " 2   movie              5782 non-null   object\n",
      " 3   production_budget  5782 non-null   object\n",
      " 4   domestic_gross     5782 non-null   object\n",
      " 5   worldwide_gross    5782 non-null   object\n",
      "dtypes: int64(1), object(5)\n",
      "memory usage: 271.2+ KB\n"
     ]
    }
   ],
   "source": [
    "numbers.info()"
   ]
  },
  {
   "cell_type": "markdown",
   "metadata": {},
   "source": [
    "This dataset contains information about the budgets and revenues of nearly 6,000 movies, with no missing entries. Before much of the data can be utilized, the numbers must be converted to integers instead of objects. \n",
    "\n",
    "For the columns with currency values, I will remove the $ symbol and commas in order to convert these values to a usable type.\n",
    "\n",
    "For the column with dates, I will adjust the entires so that only contain the year (as an integer). Since the IMDB table only contains the release year, this is the only information necessary. This way, the column can be used to match movies to their corresponding entries across the two datasets."
   ]
  },
  {
   "cell_type": "code",
   "execution_count": 4,
   "metadata": {},
   "outputs": [],
   "source": [
    "# created a list of the columns that are referring to a currency\n",
    "currency_columns = ['production_budget', 'domestic_gross', 'worldwide_gross']\n",
    "\n",
    "# used a for loop to remove '$' and ',' symbols from the entries in these columns and convert the remaining\n",
    "# characters to integers instead of strings\n",
    "for column in currency_columns:\n",
    "    numbers[column] = numbers[column].str.replace(\"$\", \"\")\n",
    "    numbers[column] = numbers[column].str.replace(\",\", \"\")\n",
    "    numbers[column] = numbers[column].astype(int)\n",
    "\n",
    "# used a labmda function to select only the year from the release_date column and dropped the column with entire date\n",
    "numbers['release_year'] = numbers['release_date'].map(lambda x: int(x[-4:]))\n",
    "numbers.drop('release_date', axis=1, inplace=True)"
   ]
  },
  {
   "cell_type": "markdown",
   "metadata": {},
   "source": [
    "Now that the columns with numeric values are of a numeric type, we can take a look at the descriptive statistics for this dataset, beginning with the release year."
   ]
  },
  {
   "cell_type": "code",
   "execution_count": 5,
   "metadata": {
    "scrolled": true
   },
   "outputs": [
    {
     "data": {
      "text/plain": [
       "count    5782.000000\n",
       "mean     2003.967139\n",
       "std        12.724386\n",
       "min      1915.000000\n",
       "25%      2000.000000\n",
       "50%      2007.000000\n",
       "75%      2012.000000\n",
       "max      2020.000000\n",
       "Name: release_year, dtype: float64"
      ]
     },
     "execution_count": 5,
     "metadata": {},
     "output_type": "execute_result"
    }
   ],
   "source": [
    "numbers['release_year'].describe()"
   ]
  },
  {
   "cell_type": "markdown",
   "metadata": {},
   "source": [
    "This dataset contains entries about movies that were released as early as 1915. Because the company is interested in films that are currently doing well and film trends have changed significantly in the last century, I will limit this analysis to films that were produced in the 21st century (the year 2000 or later). This will still leave a substantial portion (over 75%) of the dataset for us to work with."
   ]
  },
  {
   "cell_type": "code",
   "execution_count": 6,
   "metadata": {},
   "outputs": [],
   "source": [
    "numbers = numbers.loc[numbers['release_year'] >= 2000]"
   ]
  },
  {
   "cell_type": "markdown",
   "metadata": {},
   "source": [
    "### IMDB Dataset\n",
    "\n",
    "In order to better understand the features of these movies and evaluate trends and patterns in the data, we will need to incorporate additional information from the IMDB file. In the cell below, I will connect to the IMDB file using SQLite 3. Then, I will merge the IMDB data with the data from The Numbers. Entries that have insufficient information will not be useful to this analysis: therefore, an inner merge will be used."
   ]
  },
  {
   "cell_type": "code",
   "execution_count": 7,
   "metadata": {},
   "outputs": [],
   "source": [
    "# The lines below are commented out to avoid running multiple times.\n",
    "    # from zipfile import ZipFile\n",
    "    # with ZipFile(\"data/im.db.zip\", 'r') as zObject:\n",
    "        #z Object.extractall(path=\"data/im.db\")\n",
    "\n",
    "# established connection to the database    \n",
    "conn = sqlite3.connect(\"data/im.db/im.db\")\n",
    "\n",
    "# created a table called imdb by querying the title, year, runtime, and genres for each movie\n",
    "imdb = pd.read_sql(\"\"\"\n",
    "SELECT original_title, \n",
    "       start_year, \n",
    "       runtime_minutes,\n",
    "       genres\n",
    "FROM movie_basics;\"\"\", conn)\n",
    "\n",
    "# closed the connection to the database\n",
    "conn.close()"
   ]
  },
  {
   "cell_type": "code",
   "execution_count": 8,
   "metadata": {},
   "outputs": [],
   "source": [
    "# combined the numbers and imdb tables using an inner merge\n",
    "# merged on both the title and the year so to avoid issues with repeat title names\n",
    "\n",
    "movies = numbers.merge(imdb, how='inner', left_on=['movie', 'release_year'], \n",
    "                       right_on=['original_title', 'start_year'])"
   ]
  },
  {
   "cell_type": "markdown",
   "metadata": {},
   "source": [
    "# Exploratory Analysis"
   ]
  },
  {
   "cell_type": "markdown",
   "metadata": {},
   "source": [
    "Before analyzing movie performance by feature, I will explore the descriptive statistics for the dataset as a whole."
   ]
  },
  {
   "cell_type": "code",
   "execution_count": 9,
   "metadata": {
    "scrolled": true
   },
   "outputs": [
    {
     "data": {
      "text/html": [
       "<div>\n",
       "<style scoped>\n",
       "    .dataframe tbody tr th:only-of-type {\n",
       "        vertical-align: middle;\n",
       "    }\n",
       "\n",
       "    .dataframe tbody tr th {\n",
       "        vertical-align: top;\n",
       "    }\n",
       "\n",
       "    .dataframe thead th {\n",
       "        text-align: right;\n",
       "    }\n",
       "</style>\n",
       "<table border=\"1\" class=\"dataframe\">\n",
       "  <thead>\n",
       "    <tr style=\"text-align: right;\">\n",
       "      <th></th>\n",
       "      <th>id</th>\n",
       "      <th>production_budget</th>\n",
       "      <th>domestic_gross</th>\n",
       "      <th>worldwide_gross</th>\n",
       "      <th>release_year</th>\n",
       "      <th>start_year</th>\n",
       "      <th>runtime_minutes</th>\n",
       "    </tr>\n",
       "  </thead>\n",
       "  <tbody>\n",
       "    <tr>\n",
       "      <th>count</th>\n",
       "      <td>1533.000000</td>\n",
       "      <td>1.533000e+03</td>\n",
       "      <td>1.533000e+03</td>\n",
       "      <td>1.533000e+03</td>\n",
       "      <td>1533.000000</td>\n",
       "      <td>1533.000000</td>\n",
       "      <td>1508.000000</td>\n",
       "    </tr>\n",
       "    <tr>\n",
       "      <th>mean</th>\n",
       "      <td>50.504892</td>\n",
       "      <td>4.397901e+07</td>\n",
       "      <td>5.473294e+07</td>\n",
       "      <td>1.371262e+08</td>\n",
       "      <td>2013.893673</td>\n",
       "      <td>2013.893673</td>\n",
       "      <td>106.932361</td>\n",
       "    </tr>\n",
       "    <tr>\n",
       "      <th>std</th>\n",
       "      <td>28.749767</td>\n",
       "      <td>5.548813e+07</td>\n",
       "      <td>8.274126e+07</td>\n",
       "      <td>2.275636e+08</td>\n",
       "      <td>2.596904</td>\n",
       "      <td>2.596904</td>\n",
       "      <td>18.836937</td>\n",
       "    </tr>\n",
       "    <tr>\n",
       "      <th>min</th>\n",
       "      <td>1.000000</td>\n",
       "      <td>1.500000e+04</td>\n",
       "      <td>0.000000e+00</td>\n",
       "      <td>0.000000e+00</td>\n",
       "      <td>2010.000000</td>\n",
       "      <td>2010.000000</td>\n",
       "      <td>5.000000</td>\n",
       "    </tr>\n",
       "    <tr>\n",
       "      <th>25%</th>\n",
       "      <td>25.000000</td>\n",
       "      <td>7.500000e+06</td>\n",
       "      <td>2.483472e+06</td>\n",
       "      <td>7.482387e+06</td>\n",
       "      <td>2012.000000</td>\n",
       "      <td>2012.000000</td>\n",
       "      <td>94.000000</td>\n",
       "    </tr>\n",
       "    <tr>\n",
       "      <th>50%</th>\n",
       "      <td>51.000000</td>\n",
       "      <td>2.200000e+07</td>\n",
       "      <td>2.683950e+07</td>\n",
       "      <td>5.044586e+07</td>\n",
       "      <td>2014.000000</td>\n",
       "      <td>2014.000000</td>\n",
       "      <td>105.000000</td>\n",
       "    </tr>\n",
       "    <tr>\n",
       "      <th>75%</th>\n",
       "      <td>75.000000</td>\n",
       "      <td>5.500000e+07</td>\n",
       "      <td>6.638066e+07</td>\n",
       "      <td>1.525669e+08</td>\n",
       "      <td>2016.000000</td>\n",
       "      <td>2016.000000</td>\n",
       "      <td>118.000000</td>\n",
       "    </tr>\n",
       "    <tr>\n",
       "      <th>max</th>\n",
       "      <td>100.000000</td>\n",
       "      <td>4.106000e+08</td>\n",
       "      <td>7.000596e+08</td>\n",
       "      <td>2.048134e+09</td>\n",
       "      <td>2020.000000</td>\n",
       "      <td>2020.000000</td>\n",
       "      <td>189.000000</td>\n",
       "    </tr>\n",
       "  </tbody>\n",
       "</table>\n",
       "</div>"
      ],
      "text/plain": [
       "                id  production_budget  domestic_gross  worldwide_gross  \\\n",
       "count  1533.000000       1.533000e+03    1.533000e+03     1.533000e+03   \n",
       "mean     50.504892       4.397901e+07    5.473294e+07     1.371262e+08   \n",
       "std      28.749767       5.548813e+07    8.274126e+07     2.275636e+08   \n",
       "min       1.000000       1.500000e+04    0.000000e+00     0.000000e+00   \n",
       "25%      25.000000       7.500000e+06    2.483472e+06     7.482387e+06   \n",
       "50%      51.000000       2.200000e+07    2.683950e+07     5.044586e+07   \n",
       "75%      75.000000       5.500000e+07    6.638066e+07     1.525669e+08   \n",
       "max     100.000000       4.106000e+08    7.000596e+08     2.048134e+09   \n",
       "\n",
       "       release_year   start_year  runtime_minutes  \n",
       "count   1533.000000  1533.000000      1508.000000  \n",
       "mean    2013.893673  2013.893673       106.932361  \n",
       "std        2.596904     2.596904        18.836937  \n",
       "min     2010.000000  2010.000000         5.000000  \n",
       "25%     2012.000000  2012.000000        94.000000  \n",
       "50%     2014.000000  2014.000000       105.000000  \n",
       "75%     2016.000000  2016.000000       118.000000  \n",
       "max     2020.000000  2020.000000       189.000000  "
      ]
     },
     "execution_count": 9,
     "metadata": {},
     "output_type": "execute_result"
    }
   ],
   "source": [
    "movies.describe()"
   ]
  },
  {
   "cell_type": "markdown",
   "metadata": {},
   "source": [
    "Now, we have a set of 1,533 movies produced since 2000 for which we have information about the production budget, revenue, release year, runtime, and genre.\n",
    "\n",
    "The statistics show that on average, these films each cost approximately \\\\$44,000,000 to produce, and on average, they each brought in approximately \\\\$137,000,000 in worldwide gross revenue.\n",
    "\n",
    "In order to better understand the relationship between these two variables, I will create a scatterplot below."
   ]
  },
  {
   "cell_type": "code",
   "execution_count": 10,
   "metadata": {},
   "outputs": [
    {
     "data": {
      "image/png": "[encoded data removed]",
      "text/plain": [
       "<Figure size 1008x576 with 1 Axes>"
      ]
     },
     "metadata": {
      "needs_background": "light"
     },
     "output_type": "display_data"
    }
   ],
   "source": [
    "# created a subplot\n",
    "fig, ax = plt.subplots(figsize=(14,8))\n",
    "\n",
    "# created a scatterplot for production budget vs. gross revenue\n",
    "movies.plot.scatter(x=\"production_budget\", y=\"worldwide_gross\", ax=ax)\n",
    "ax.set_title(\"Production Budget and Gross Revenue\", fontsize=14)\n",
    "ax.set_xlabel(\"Production Budget (in millions of dollars)\", fontsize=12)\n",
    "ax.set_xticks([0, 100000000, 200000000, 300000000, 400000000])\n",
    "ax.set_xticklabels([0, 100, 200, 300, 400])\n",
    "ax.set_ylabel(\"Worldwide Gross Revenue (in billions of dollars)\", fontsize=12)\n",
    "ax.set_yticks(ticks=[0, 500000000, 1000000000, 1500000000, 2000000000, 2500000000])\n",
    "ax.set_yticklabels(labels=[0, 0.5, 1, 1.5, 2, 2.5]);"
   ]
  },
  {
   "cell_type": "markdown",
   "metadata": {},
   "source": [
    "Although this relationship is not linear and does not meet the criteria for performing a linear regression, there does appear to be somewhat of a weak relationship between budget and revenue: films with larger budgets tend to have larger revenues. "
   ]
  },
  {
   "cell_type": "markdown",
   "metadata": {},
   "source": [
    "### Percent Return"
   ]
  },
  {
   "cell_type": "markdown",
   "metadata": {},
   "source": [
    "Looking at total gross revenue will give us some sense of what types of films perform best overall, but it will be more useful to analyze a feature that considers the relationship between revenue and production budget. Therefore, I will create a new column called **\"%_return\"** that gives the gross revenue as a percentage of the production budget. This feature will provide more insight than evaluating **total gross revenue** alone since it takes into consideration the size of the initial investment (in this case, the budget to produce the film).\n",
    "\n",
    "The formula used can be seen in the cell below. "
   ]
  },
  {
   "cell_type": "markdown",
   "metadata": {},
   "source": [
    "\\begin{align}\n",
    "\\text{Percent Return} = \\frac{\\text{total gross revenue – production budget}}{\\text{production budget}}*100\n",
    "\\end{align}"
   ]
  },
  {
   "cell_type": "code",
   "execution_count": 11,
   "metadata": {},
   "outputs": [],
   "source": [
    "# percent return = (earnings - cost) / cost\n",
    "movies['%_return'] = (movies['worldwide_gross']-movies['production_budget'])/movies['production_budget']*100"
   ]
  },
  {
   "cell_type": "markdown",
   "metadata": {},
   "source": [
    "Now, I will  sort the dataframe by this column so that the most profitable films are easily accessible."
   ]
  },
  {
   "cell_type": "code",
   "execution_count": 12,
   "metadata": {
    "scrolled": false
   },
   "outputs": [
    {
     "data": {
      "text/plain": [
       "count     1533.000000\n",
       "mean       268.521026\n",
       "std       1196.362922\n",
       "min       -100.000000\n",
       "25%        -28.672900\n",
       "50%        109.461378\n",
       "75%        294.571910\n",
       "max      41556.474000\n",
       "Name: %_return, dtype: float64"
      ]
     },
     "execution_count": 12,
     "metadata": {},
     "output_type": "execute_result"
    }
   ],
   "source": [
    "movies.sort_values(by=['%_return'], ascending=False, inplace=True)\n",
    "movies['%_return'].describe()"
   ]
  },
  {
   "cell_type": "markdown",
   "metadata": {},
   "source": [
    "On average, movies in this datset earned a 269% return on their initial investment (that is, approximately 2.5 times what was spent to produce the film). The film with the highest percent return had a whopping 41,556% return on investment! The lowest films had a -100% return (that is, no money was earned from the film, so the entire initial investment was lost)."
   ]
  },
  {
   "cell_type": "markdown",
   "metadata": {},
   "source": [
    "Again, because **percent return** explains the extent to which the company will be able to profit off of its investments as a proportion (rather than an amount), this feature (rather than total gross revenue) will be the **feature analyzed in order to consider films \"highly successful\".**\n",
    "\n",
    "For the remainder of this analysis, \"top films\", \"highly profitable films\", and \"most successful films\" will be used to refer to the **30 films with the highest percent returns**. This sample size will be large enough to draw meaningful conclusions while still only considering films that significantly outperformed the average of the dataset."
   ]
  },
  {
   "cell_type": "markdown",
   "metadata": {},
   "source": [
    "# Analysis by Production Budget"
   ]
  },
  {
   "cell_type": "markdown",
   "metadata": {},
   "source": [
    "I will begin by creating a scatterplot showing the relationship between production budget and percent return."
   ]
  },
  {
   "cell_type": "code",
   "execution_count": 13,
   "metadata": {},
   "outputs": [
    {
     "data": {
      "image/png": "[encoded data removed]",
      "text/plain": [
       "<Figure size 1008x576 with 1 Axes>"
      ]
     },
     "metadata": {
      "needs_background": "light"
     },
     "output_type": "display_data"
    }
   ],
   "source": [
    "# created a subplot\n",
    "fig, ax = plt.subplots(figsize=(14,8))\n",
    "\n",
    "# created a scatterplot for production budget vs. percent return\n",
    "movies.plot.scatter(x=\"production_budget\", y=\"%_return\", ax=ax)\n",
    "ax.set_title(\"Production Budget and Percent Return\", fontsize=14)\n",
    "ax.set_xlabel(\"Production Budget (in millions of dollars)\", fontsize=12)\n",
    "ax.set_xticks([0, 100000000, 200000000, 300000000, 400000000])\n",
    "ax.set_xticklabels([0, 100, 200, 300, 400])\n",
    "ax.set_ylabel(\"Percent Return\", fontsize=12);"
   ]
  },
  {
   "cell_type": "markdown",
   "metadata": {},
   "source": [
    "Interestingly, the films with the highest percent returns have some of the lowest budgets. These films will be of particular interest to the company, as they demonstrate opportunities to generate impressive returns on investments. However, this visualization is somewhat difficult to interpret, since the two extreme values (the films with returns of approximately 40,000% and 10,000%) significantly affect the y-axis.\n",
    "\n",
    "In the cell below, I will drop these two extreme values in order to better visualize the relationship for the rest of the data. _**These values will not be dropped from the dataset used for analysis - they are simply being temporariily ignored in order to improve the visualization.**_"
   ]
  },
  {
   "cell_type": "code",
   "execution_count": 14,
   "metadata": {},
   "outputs": [
    {
     "data": {
      "image/png": "[encoded data removed]",
      "text/plain": [
       "<Figure size 1008x576 with 1 Axes>"
      ]
     },
     "metadata": {
      "needs_background": "light"
     },
     "output_type": "display_data"
    }
   ],
   "source": [
    "# created a subset of the movies dataframe that does not contain the extreme values \n",
    "movies_without_top_two = movies.loc[movies['%_return'] < 10000]\n",
    "\n",
    "# created a new scatterplot using the subset\n",
    "fig, ax = plt.subplots(figsize=(14,8))\n",
    "\n",
    "movies_without_top_two.plot.scatter(x=\"production_budget\", y=\"%_return\", ax=ax)\n",
    "ax.set_title(\"Production Budget and Percent Return\", fontsize=16)\n",
    "ax.set_xlabel(\"Production Budget (in millions of dollars)\", fontsize=12)\n",
    "ax.set_xticks([0, 100000000, 200000000, 300000000, 400000000])\n",
    "ax.set_xticklabels([0, 100, 200, 300, 400])\n",
    "ax.set_ylabel(\"Percent Return\", fontsize=12);"
   ]
  },
  {
   "cell_type": "markdown",
   "metadata": {},
   "source": [
    "Now, we can more clearly see the relationship between production budget and percent return. This relationship is still clearly nonlinear, but it is more obvious that the films with the highest percent returns have budgets that are less than \\\\$100 million.\n",
    "\n",
    "In order to better understand this relationship, I will bin the data according to percent return and examine the budget using the function below."
   ]
  },
  {
   "cell_type": "code",
   "execution_count": 29,
   "metadata": {},
   "outputs": [
    {
     "name": "stdout",
     "output_type": "stream",
     "text": [
      "The production budget for the  5  films with the highest percent return is $ 2120000 .\n",
      "The production budget for the  30  films with the highest percent return is $ 5360000 .\n",
      "The production budget for the  50  films with the highest percent return is $ 8980000 .\n",
      "The production budget for the  100  films with the highest percent return is $ 14752126 .\n",
      "The production budget for the  250  films with the highest percent return is $ 32703130 .\n",
      "The production budget for the  500  films with the highest percent return is $ 51307315 .\n"
     ]
    }
   ],
   "source": [
    "# created a function that takes one input: the number (n) of top films to consider\n",
    "\n",
    "def calculate_production_budget(n):\n",
    "    \n",
    "    #takes the top n films from the original dataframe\n",
    "    top_n = movies.head(n)\n",
    "    \n",
    "    #calculates the mean production budget of these top films\n",
    "    production_budget = top_n['production_budget'].mean()\n",
    "    \n",
    "    #prints the mean budget as well as the number of films considered, rounded to the nearest dollar\n",
    "    print(\"The production budget for the \", n, \" films with the highest percent return is $\", \n",
    "          int(production_budget), \".\")\n",
    "    \n",
    "for n in 5, 30, 50, 100, 250, 500:\n",
    "    calculate_production_budget(n)"
   ]
  },
  {
   "cell_type": "markdown",
   "metadata": {},
   "source": [
    "Again, there is not a linear relationship between the production budget and the percent return, but average production budgets produced above illustrate the following: The films that earn the most money per dollar (that is, the films that have the highest return on investment) have lower budgets, on average, than other films.\n",
    "\n",
    "This led me to question: Are the budgets of these highly profitable movies different from the budgets of all other movies?"
   ]
  },
  {
   "cell_type": "code",
   "execution_count": 30,
   "metadata": {},
   "outputs": [
    {
     "data": {
      "text/html": [
       "<div>\n",
       "<style scoped>\n",
       "    .dataframe tbody tr th:only-of-type {\n",
       "        vertical-align: middle;\n",
       "    }\n",
       "\n",
       "    .dataframe tbody tr th {\n",
       "        vertical-align: top;\n",
       "    }\n",
       "\n",
       "    .dataframe thead th {\n",
       "        text-align: right;\n",
       "    }\n",
       "</style>\n",
       "<table border=\"1\" class=\"dataframe\">\n",
       "  <thead>\n",
       "    <tr style=\"text-align: right;\">\n",
       "      <th></th>\n",
       "      <th>id</th>\n",
       "      <th>production_budget</th>\n",
       "      <th>domestic_gross</th>\n",
       "      <th>worldwide_gross</th>\n",
       "      <th>release_year</th>\n",
       "      <th>start_year</th>\n",
       "      <th>runtime_minutes</th>\n",
       "      <th>%_return</th>\n",
       "    </tr>\n",
       "  </thead>\n",
       "  <tbody>\n",
       "    <tr>\n",
       "      <th>count</th>\n",
       "      <td>30.00000</td>\n",
       "      <td>3.000000e+01</td>\n",
       "      <td>3.000000e+01</td>\n",
       "      <td>3.000000e+01</td>\n",
       "      <td>30.000000</td>\n",
       "      <td>30.000000</td>\n",
       "      <td>30.000000</td>\n",
       "      <td>30.000000</td>\n",
       "    </tr>\n",
       "    <tr>\n",
       "      <th>mean</th>\n",
       "      <td>56.10000</td>\n",
       "      <td>5.360000e+06</td>\n",
       "      <td>6.871923e+07</td>\n",
       "      <td>1.538556e+08</td>\n",
       "      <td>2014.266667</td>\n",
       "      <td>2014.266667</td>\n",
       "      <td>100.933333</td>\n",
       "      <td>4514.323223</td>\n",
       "    </tr>\n",
       "    <tr>\n",
       "      <th>std</th>\n",
       "      <td>25.09616</td>\n",
       "      <td>4.670199e+06</td>\n",
       "      <td>4.484561e+07</td>\n",
       "      <td>1.058622e+08</td>\n",
       "      <td>2.598850</td>\n",
       "      <td>2.598850</td>\n",
       "      <td>17.896124</td>\n",
       "      <td>7173.433735</td>\n",
       "    </tr>\n",
       "    <tr>\n",
       "      <th>min</th>\n",
       "      <td>2.00000</td>\n",
       "      <td>1.000000e+05</td>\n",
       "      <td>1.594798e+06</td>\n",
       "      <td>2.769782e+06</td>\n",
       "      <td>2010.000000</td>\n",
       "      <td>2010.000000</td>\n",
       "      <td>81.000000</td>\n",
       "      <td>1935.899100</td>\n",
       "    </tr>\n",
       "    <tr>\n",
       "      <th>25%</th>\n",
       "      <td>46.75000</td>\n",
       "      <td>2.625000e+06</td>\n",
       "      <td>4.112852e+07</td>\n",
       "      <td>7.741338e+07</td>\n",
       "      <td>2012.000000</td>\n",
       "      <td>2012.000000</td>\n",
       "      <td>87.250000</td>\n",
       "      <td>2412.205265</td>\n",
       "    </tr>\n",
       "    <tr>\n",
       "      <th>50%</th>\n",
       "      <td>58.50000</td>\n",
       "      <td>5.000000e+06</td>\n",
       "      <td>6.007848e+07</td>\n",
       "      <td>1.166483e+08</td>\n",
       "      <td>2014.500000</td>\n",
       "      <td>2014.500000</td>\n",
       "      <td>97.500000</td>\n",
       "      <td>2790.310037</td>\n",
       "    </tr>\n",
       "    <tr>\n",
       "      <th>75%</th>\n",
       "      <td>68.50000</td>\n",
       "      <td>6.125000e+06</td>\n",
       "      <td>9.775738e+07</td>\n",
       "      <td>2.429355e+08</td>\n",
       "      <td>2016.000000</td>\n",
       "      <td>2016.000000</td>\n",
       "      <td>109.750000</td>\n",
       "      <td>3838.329312</td>\n",
       "    </tr>\n",
       "    <tr>\n",
       "      <th>max</th>\n",
       "      <td>92.00000</td>\n",
       "      <td>2.000000e+07</td>\n",
       "      <td>1.760407e+08</td>\n",
       "      <td>4.263512e+08</td>\n",
       "      <td>2018.000000</td>\n",
       "      <td>2018.000000</td>\n",
       "      <td>161.000000</td>\n",
       "      <td>41556.474000</td>\n",
       "    </tr>\n",
       "  </tbody>\n",
       "</table>\n",
       "</div>"
      ],
      "text/plain": [
       "             id  production_budget  domestic_gross  worldwide_gross  \\\n",
       "count  30.00000       3.000000e+01    3.000000e+01     3.000000e+01   \n",
       "mean   56.10000       5.360000e+06    6.871923e+07     1.538556e+08   \n",
       "std    25.09616       4.670199e+06    4.484561e+07     1.058622e+08   \n",
       "min     2.00000       1.000000e+05    1.594798e+06     2.769782e+06   \n",
       "25%    46.75000       2.625000e+06    4.112852e+07     7.741338e+07   \n",
       "50%    58.50000       5.000000e+06    6.007848e+07     1.166483e+08   \n",
       "75%    68.50000       6.125000e+06    9.775738e+07     2.429355e+08   \n",
       "max    92.00000       2.000000e+07    1.760407e+08     4.263512e+08   \n",
       "\n",
       "       release_year   start_year  runtime_minutes      %_return  \n",
       "count     30.000000    30.000000        30.000000     30.000000  \n",
       "mean    2014.266667  2014.266667       100.933333   4514.323223  \n",
       "std        2.598850     2.598850        17.896124   7173.433735  \n",
       "min     2010.000000  2010.000000        81.000000   1935.899100  \n",
       "25%     2012.000000  2012.000000        87.250000   2412.205265  \n",
       "50%     2014.500000  2014.500000        97.500000   2790.310037  \n",
       "75%     2016.000000  2016.000000       109.750000   3838.329312  \n",
       "max     2018.000000  2018.000000       161.000000  41556.474000  "
      ]
     },
     "execution_count": 30,
     "metadata": {},
     "output_type": "execute_result"
    }
   ],
   "source": [
    "# defined a subset of the 30 movies with the highest percent returns\n",
    "subset = movies.head(30)\n",
    "\n",
    "# examined the descriptive statistics of the subset\n",
    "subset.describe()"
   ]
  },
  {
   "cell_type": "markdown",
   "metadata": {},
   "source": [
    "On average, these top 30 movies have a production budget of \\\\$5,360,000, which is much lower than the average budget for all movies (approximately \\\\$44,000,000). \n",
    "\n",
    "Is this difference statistially significant?\n",
    "\n",
    "In order to examine this question, I will define highly profitable movies to be the 30 movies with the highest percent return on investment, and I will use a t-test with a standard alpha level of 0.05. \n",
    "\n",
    "**Null hypothesis**: Highly profitable movies have the same or higher production budgets compared to all movies.\n",
    "\n",
    "**Alternative hypothesis**: Highly profitable movies have lower production budgets than all movies."
   ]
  },
  {
   "cell_type": "code",
   "execution_count": 31,
   "metadata": {},
   "outputs": [
    {
     "name": "stdout",
     "output_type": "stream",
     "text": [
      "2.7546499574574263e-25\n"
     ]
    }
   ],
   "source": [
    "# converted the budget feature of the subset to a NumPy array\n",
    "sample = subset['production_budget'].to_numpy()\n",
    "\n",
    "# defined the population mean as the mean production movie of all movies\n",
    "mu = numbers['production_budget'].mean()\n",
    "\n",
    "# ran a 1 sample t-test to compare this subset (the sample) to the population of all movies\n",
    "t_stat, p_value = stats.ttest_1samp(a=sample, popmean=mu)\n",
    "\n",
    "# divided the resulting p_value by 2 since the stats 1-sample t-test assumes a two-sided test\n",
    "print(p_value/2)"
   ]
  },
  {
   "cell_type": "markdown",
   "metadata": {},
   "source": [
    "Using the t-statistic and p-value calculated above, we can **reject the null hypothesis** at the standard alpha level of 0.05: it is extremely unlikely that highly profitable movies have the same or higher production budgets than all movies. Highly profitable movies have lower production budgets than all movies.\n",
    "\n",
    "The graph below illustrates the distribution of all films and highly profitable films by budget."
   ]
  },
  {
   "cell_type": "code",
   "execution_count": 34,
   "metadata": {},
   "outputs": [
    {
     "data": {
      "image/png": "[encoded data removed]",
      "text/plain": [
       "<Figure size 1008x432 with 1 Axes>"
      ]
     },
     "metadata": {},
     "output_type": "display_data"
    }
   ],
   "source": [
    "sns.set_style(\"whitegrid\")\n",
    "\n",
    "fig, ax = plt.subplots(figsize=(14,6))\n",
    "\n",
    "# created a histogram (with the kde plot) for all movies in blue\n",
    "sns.histplot(movies['production_budget'], kde=True, bins=102, \\\n",
    "             stat='probability', alpha=0.5, ax=ax, color='blue', label =\"All Movies\")\n",
    "\n",
    "# created a histogram (with the kde plot) for the top 30 movies in red\n",
    "sns.histplot(subset['production_budget'], kde=True, bins=5, \\\n",
    "             stat='probability', alpha=0.5, ax=ax, color='red', label=\"Top 30 Movies\")\n",
    "\n",
    "# limited x-axis to make visualization more readable\n",
    "plt.xlim(-10, 100000000)\n",
    "\n",
    "# adjusted x-axis ticks/labels to avoid scientific notation\n",
    "plt.xticks(ticks=[0, 20000000, 40000000, 60000000, 80000000, 100000000], \n",
    "           labels=[0, 20, 40, 60, 80, 100],\n",
    "          fontsize=12)\n",
    "\n",
    "# set titles and labels\n",
    "plt.title(\"Distribution of Production Budgets\", fontsize=18)\n",
    "plt.xlabel(\"Production Budget (in millions of dollars)\", fontsize=14)\n",
    "plt.ylabel(\"Probability\", fontsize=14)\n",
    "\n",
    "plt.legend();"
   ]
  },
  {
   "cell_type": "markdown",
   "metadata": {},
   "source": [
    "In blue, we see that all films (denoted in blue) are slightly more concentrated between \\\\$0-20 million. However, this concentration is not nearly as substantial as the concentration of the 30 most profitable films. These films (denoted in red) are highly concentrated between \\\\$0-20 million, with the most concentration occurring between \\\\$0-8 million. No film in the subset has a budget of over \\\\$20 million. In contrast, the movie with the highest production budget exceeds \\\\$400 million - over 20 times that of the highest in the subset!\n",
    "\n",
    "We cannot assume that the production budget *caused* these films to be more profitable. However, this difference in production budget is a statistically significant feature of highly profitable movies."
   ]
  },
  {
   "cell_type": "markdown",
   "metadata": {},
   "source": [
    "**Therefore, I recommend that the company mimic the production budgets of these highly profitable films and produce films with budgets of \\\\$8 or less.** The distribution of production budgets for this subset is not normally distributed, so a recommendation using a confidence interval is not appropriate. However, the distribution seen above illustrates that the majority of most profitable films have budgets of less than \\\\$8 million."
   ]
  },
  {
   "cell_type": "markdown",
   "metadata": {},
   "source": [
    "# Analysis by Genre\n",
    "\n",
    "Analysis of movies by genre is not possible using the movies DataFrame in its current state because many of the movies have more than one genre listed in the 'genres' column. Therefore, running the .value_counts() function on this column will be insufficient, as this will return the unique combinations of movie genres and the number they appear as opposed to each unique genre and the number of times it appears. Refer to the cell below for additional context."
   ]
  },
  {
   "cell_type": "code",
   "execution_count": 36,
   "metadata": {},
   "outputs": [
    {
     "data": {
      "text/plain": [
       "Adventure,Animation,Comedy    68\n",
       "Drama                         66\n",
       "Comedy                        54\n",
       "Comedy,Drama,Romance          52\n",
       "Comedy,Drama                  49\n",
       "                              ..\n",
       "Documentary,Drama              1\n",
       "Drama,Family,Music             1\n",
       "Comedy,Drama,Sport             1\n",
       "Action,Comedy,Documentary      1\n",
       "Crime,Drama,History            1\n",
       "Name: genres, Length: 233, dtype: int64"
      ]
     },
     "execution_count": 36,
     "metadata": {},
     "output_type": "execute_result"
    }
   ],
   "source": [
    "# demonstrated why running the .value_counts() function alone is insufficient\n",
    "movies['genres'].value_counts()"
   ]
  },
  {
   "cell_type": "markdown",
   "metadata": {},
   "source": [
    "Although it may be possible to gain some information from these values, it will be more meaningful if we can extract the counts for individual genre in order to make a more"
   ]
  },
  {
   "cell_type": "code",
   "execution_count": null,
   "metadata": {},
   "outputs": [],
   "source": [
    "all_genres = list(movies['genres'].value_counts().index)"
   ]
  },
  {
   "cell_type": "code",
   "execution_count": null,
   "metadata": {},
   "outputs": [],
   "source": [
    "# https://stackoverflow.com/questions/952914/how-do-i-make-a-flat-list-out-of-a-list-of-lists\n",
    "\n",
    "def split_and_flatten(list):\n",
    "    split_list = []\n",
    "    for entry in list:\n",
    "        split_list.append(entry.split(','))\n",
    "    return set([item for sublist in split_list for item in sublist])\n",
    "\n",
    "genres = split_and_flatten(all_genres)\n",
    "genres"
   ]
  },
  {
   "cell_type": "code",
   "execution_count": null,
   "metadata": {},
   "outputs": [],
   "source": [
    "from pandasql import sqldf\n",
    "pysqldf = lambda q: sqldf(q, globals())\n",
    "\n",
    "def number_in_genre(genres_list):\n",
    "    dataframes = []\n",
    "    for genre in genres_list:\n",
    "        q = \"\"\"SELECT COUNT(*) \n",
    "               FROM movies \n",
    "               WHERE genres LIKE '%\"\"\" + genre + \"\"\"%'\"\"\"\n",
    "        df = pysqldf(q)\n",
    "        df['genre'] = genre\n",
    "        dataframes.append(df)\n",
    "    return pd.concat(dataframes)"
   ]
  },
  {
   "cell_type": "code",
   "execution_count": null,
   "metadata": {},
   "outputs": [],
   "source": [
    "all_movie_genres = number_in_genre(genres)\n",
    "\n",
    "#extracted to numpy array for chi2 test\n",
    "all_movie_genres_array = all_movie_genres['COUNT(*)'].to_numpy()\n",
    "\n",
    "all_movie_genres.sort_values(by=[\"COUNT(*)\"], inplace=True)\n",
    "all_movie_genres"
   ]
  },
  {
   "cell_type": "code",
   "execution_count": null,
   "metadata": {},
   "outputs": [],
   "source": [
    "fig, ax = plt.subplots(figsize=(12,6))\n",
    "\n",
    "all_movie_genres.plot.barh(x='genre', y='COUNT(*)', label='All Movies', ax=ax)\n",
    "plt.xlabel('Number of Movies')\n",
    "plt.ylabel('Genre')\n",
    "plt.title('Number of Movies by Genre', fontsize=15);"
   ]
  },
  {
   "cell_type": "code",
   "execution_count": null,
   "metadata": {},
   "outputs": [],
   "source": [
    "top_30_movies = movies.head(30)\n",
    "\n",
    "def number_in_genre(genres_list):\n",
    "    dataframes = []\n",
    "    for genre in genres_list:\n",
    "        q = \"\"\"SELECT COUNT(*) \n",
    "               FROM top_30_movies \n",
    "               WHERE genres LIKE '%\"\"\" + genre + \"\"\"%'\"\"\"\n",
    "        df = pysqldf(q)\n",
    "        df['genre'] = genre\n",
    "        dataframes.append(df)\n",
    "    return pd.concat(dataframes)\n",
    "\n",
    "top_movie_genres = number_in_genre(genres)\n",
    "top_movie_genres_array = top_movie_genres['COUNT(*)'].to_numpy()\n",
    "top_movie_genres\n",
    "\n",
    "top_movie_genres.sort_values(by=[\"COUNT(*)\"], inplace=True)\n",
    "top_movie_genres"
   ]
  },
  {
   "cell_type": "code",
   "execution_count": null,
   "metadata": {},
   "outputs": [],
   "source": [
    "fig, ax = plt.subplots(figsize=(12,6))\n",
    "\n",
    "top_movie_genres.plot.barh(x='genre', y='COUNT(*)', label='Top 30 Movies', ax=ax)\n",
    "plt.xlabel('Number of Movies')\n",
    "plt.ylabel('Genre')\n",
    "plt.title('Number of Movies by Genre', fontsize=15);"
   ]
  },
  {
   "cell_type": "code",
   "execution_count": null,
   "metadata": {},
   "outputs": [],
   "source": [
    "for table in [all_movie_genres, top_movie_genres]:\n",
    "    table['Percent of'] = table['COUNT(*)'].map(lambda x: x/(table['COUNT(*)'].sum()))\n",
    "    table.drop('COUNT(*)', axis=1, inplace=True)"
   ]
  },
  {
   "cell_type": "code",
   "execution_count": null,
   "metadata": {},
   "outputs": [],
   "source": [
    "all_movie_genres.rename(columns={'Percent of':'Percent of All Movies'}, inplace=True)\n",
    "top_movie_genres.rename(columns={'Percent of':'Percent of Top 30 Movies'}, inplace=True)"
   ]
  },
  {
   "cell_type": "code",
   "execution_count": null,
   "metadata": {},
   "outputs": [],
   "source": [
    "genre_comparison = all_movie_genres.merge(top_movie_genres, on='genre')\n",
    "genre_comparison.sort_values(by=['Percent of Top 30 Movies'], ascending=True, inplace=True)\n",
    "\n",
    "genre_comparison = genre_comparison.loc[genre_comparison['Percent of Top 30 Movies'] != 0]"
   ]
  },
  {
   "cell_type": "code",
   "execution_count": null,
   "metadata": {},
   "outputs": [],
   "source": [
    "fig, ax = plt.subplots(figsize=(12,6))\n",
    "\n",
    "genre_comparison.plot(x='genre', y=['Percent of All Movies', 'Percent of Top 30 Movies'],\n",
    "                     kind=\"barh\", ax=ax)\n",
    "plt.title(\"Percent of Movies by Genre\");"
   ]
  },
  {
   "cell_type": "code",
   "execution_count": null,
   "metadata": {},
   "outputs": [],
   "source": [
    "contingency_table = np.array([all_movie_genres_array,\n",
    "                             top_movie_genres_array])\n",
    "contingency_table"
   ]
  },
  {
   "cell_type": "code",
   "execution_count": null,
   "metadata": {},
   "outputs": [],
   "source": [
    "stats.chi2_contingency(contingency_table)"
   ]
  },
  {
   "cell_type": "markdown",
   "metadata": {},
   "source": [
    "The extremely low p-value here suggests that these two groups are performing differently."
   ]
  },
  {
   "cell_type": "markdown",
   "metadata": {},
   "source": [
    "## Analysis by Runtime"
   ]
  },
  {
   "cell_type": "markdown",
   "metadata": {},
   "source": [
    "Next, I will explore the relationship between runtime and percent return. First, I will visualize the relationship with a scatterplot."
   ]
  },
  {
   "cell_type": "code",
   "execution_count": null,
   "metadata": {},
   "outputs": [],
   "source": [
    "fig, ax = plt.subplots()\n",
    "\n",
    "plt.scatter(x=movies['runtime_minutes'], y=movies['%_return'])\n",
    "plt.title(\"Runtime and Percent Return\", fontsize=18)\n",
    "plt.xlabel(\"Runtime (minutes)\")\n",
    "plt.ylabel(\"Percent Return\");"
   ]
  },
  {
   "cell_type": "markdown",
   "metadata": {},
   "source": [
    "There does not appear to be a clear relationship between movie runtime and percent return. However, it is clear that the two movies with the highest percent returns have similar runtimes - approximately 80-85 minutes. These two movies are so far above the others that they make the graph somewhat difficult to interpret, as they compress the y-axis significantly. In order to better visualize this relationship, I will drop the two most profitable movies and examine the remaining data points."
   ]
  },
  {
   "cell_type": "code",
   "execution_count": null,
   "metadata": {},
   "outputs": [],
   "source": [
    "movies_without_top_two = movies.loc[movies['%_return']<10000]\n",
    "\n",
    "fig, ax = plt.subplots(figsize=(12,6))\n",
    "\n",
    "plt.scatter(x=movies_without_top_two['runtime_minutes'], y=movies_without_top_two['%_return'])\n",
    "plt.title(\"Runtime and Percent Return\", fontsize=18)\n",
    "plt.xlabel(\"Runtime (minutes)\")\n",
    "plt.ylabel(\"Percent Return\");"
   ]
  },
  {
   "cell_type": "markdown",
   "metadata": {},
   "source": [
    "Although there is not a linear relationship between these two variables, it does appear that many of the most profitable movies are clustered between 75-125 minutes. In order to better understand this relationship, I will bin the data according to percent return and analyze the runtime using the function below."
   ]
  },
  {
   "cell_type": "code",
   "execution_count": null,
   "metadata": {},
   "outputs": [],
   "source": [
    "def calculate_runtime(n):\n",
    "    top_n = movies.head(n)\n",
    "    runtime = top_n['runtime_minutes'].mean()\n",
    "    print(\"The runtime for the \", n, \" films with the highest percent return is\", \n",
    "          int(runtime), \"minutes.\")\n",
    "    \n",
    "for n in 5, 30, 50, 100, 250, 500:\n",
    "    calculate_runtime(n)"
   ]
  },
  {
   "cell_type": "code",
   "execution_count": null,
   "metadata": {
    "scrolled": true
   },
   "outputs": [],
   "source": [
    "movies['runtime_minutes'].mean()"
   ]
  },
  {
   "cell_type": "code",
   "execution_count": null,
   "metadata": {},
   "outputs": [],
   "source": [
    "np.std(movies.runtime_minutes, ddof=1)"
   ]
  },
  {
   "cell_type": "code",
   "execution_count": null,
   "metadata": {},
   "outputs": [],
   "source": [
    "subset = movies.head(30)\n",
    "sample = subset['runtime_minutes'].to_numpy()\n",
    "mu = movies['runtime_minutes'].mean()"
   ]
  },
  {
   "cell_type": "code",
   "execution_count": null,
   "metadata": {},
   "outputs": [],
   "source": [
    "stats.ttest_1samp(a=sample, popmean=mu)"
   ]
  },
  {
   "cell_type": "code",
   "execution_count": null,
   "metadata": {},
   "outputs": [],
   "source": [
    "print(subset.runtime_minutes.mean())\n",
    "print(np.std(subset.runtime_minutes, ddof=1))\n",
    "print(movies.runtime_minutes.mean())\n",
    "print(np.std(movies.runtime_minutes))"
   ]
  }
 ],
 "metadata": {
  "kernelspec": {
   "display_name": "Python (learn-env)",
   "language": "python",
   "name": "learn-env"
  },
  "language_info": {
   "codemirror_mode": {
    "name": "ipython",
    "version": 3
   },
   "file_extension": ".py",
   "mimetype": "text/x-python",
   "name": "python",
   "nbconvert_exporter": "python",
   "pygments_lexer": "ipython3",
   "version": "3.8.5"
  }
 },
 "nbformat": 4,
 "nbformat_minor": 4
}
